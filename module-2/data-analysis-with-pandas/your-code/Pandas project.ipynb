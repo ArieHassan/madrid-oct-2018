{
 "cells": [
  {
   "cell_type": "code",
   "execution_count": null,
   "metadata": {},
   "outputs": [],
   "source": [
    "import pandas as pd\n",
    "import numpy as np\n",
    "import math"
   ]
  },
  {
   "cell_type": "code",
   "execution_count": null,
   "metadata": {},
   "outputs": [],
   "source": [
    "\"\"\"El archivo original que me descargo de Kaggle ocupa 48 Mb, tiene datos de los resultados de las olimpiadas\n",
    "en los ultimos 120 anios, el archivo original lo filtre para obtener solo resultados de las ultimas olimpiadas,\n",
    "lo exporto como un nuevo CSV, que es el archivo el que estoy trabajando, este fue el codigo que utilice \n",
    "para hacer la operacion descrita: \n",
    "\n",
    "    df = pd.read_csv(\"athlete_events.csv\")\n",
    "    df_filtrado = df.sort_values(by=\"Year\",ascending=False)\n",
    "    df2 = df_filtrado[df_filtrado[\"Year\"]==2016]\n",
    "    data = df2.to_csv('Athletes_Events.csv', index=False)\n",
    "\"\"\""
   ]
  },
  {
   "cell_type": "code",
   "execution_count": 13,
   "metadata": {},
   "outputs": [],
   "source": [
    "# Importo el archivo \n",
    "atletas = pd.read_csv(\"Athletes_Events.csv\")"
   ]
  },
  {
   "cell_type": "code",
   "execution_count": 3,
   "metadata": {},
   "outputs": [
    {
     "data": {
      "text/html": [
       "<div>\n",
       "<style scoped>\n",
       "    .dataframe tbody tr th:only-of-type {\n",
       "        vertical-align: middle;\n",
       "    }\n",
       "\n",
       "    .dataframe tbody tr th {\n",
       "        vertical-align: top;\n",
       "    }\n",
       "\n",
       "    .dataframe thead th {\n",
       "        text-align: right;\n",
       "    }\n",
       "</style>\n",
       "<table border=\"1\" class=\"dataframe\">\n",
       "  <thead>\n",
       "    <tr style=\"text-align: right;\">\n",
       "      <th></th>\n",
       "      <th>ID</th>\n",
       "      <th>Name</th>\n",
       "      <th>Sex</th>\n",
       "      <th>Age</th>\n",
       "      <th>Height</th>\n",
       "      <th>Weight</th>\n",
       "      <th>Team</th>\n",
       "      <th>NOC</th>\n",
       "      <th>Games</th>\n",
       "      <th>Year</th>\n",
       "      <th>Season</th>\n",
       "      <th>City</th>\n",
       "      <th>Sport</th>\n",
       "      <th>Event</th>\n",
       "      <th>Medal</th>\n",
       "    </tr>\n",
       "  </thead>\n",
       "  <tbody>\n",
       "    <tr>\n",
       "      <th>0</th>\n",
       "      <td>99780</td>\n",
       "      <td>Maximilian Reinelt</td>\n",
       "      <td>M</td>\n",
       "      <td>27.0</td>\n",
       "      <td>195.0</td>\n",
       "      <td>98.0</td>\n",
       "      <td>Germany</td>\n",
       "      <td>GER</td>\n",
       "      <td>2016 Summer</td>\n",
       "      <td>2016</td>\n",
       "      <td>Summer</td>\n",
       "      <td>Rio de Janeiro</td>\n",
       "      <td>Rowing</td>\n",
       "      <td>Rowing Men's Coxed Eights</td>\n",
       "      <td>Silver</td>\n",
       "    </tr>\n",
       "    <tr>\n",
       "      <th>1</th>\n",
       "      <td>45859</td>\n",
       "      <td>Sophie Elizabeth Hansson</td>\n",
       "      <td>F</td>\n",
       "      <td>18.0</td>\n",
       "      <td>186.0</td>\n",
       "      <td>74.0</td>\n",
       "      <td>Sweden</td>\n",
       "      <td>SWE</td>\n",
       "      <td>2016 Summer</td>\n",
       "      <td>2016</td>\n",
       "      <td>Summer</td>\n",
       "      <td>Rio de Janeiro</td>\n",
       "      <td>Swimming</td>\n",
       "      <td>Swimming Women's 100 metres Breaststroke</td>\n",
       "      <td>NaN</td>\n",
       "    </tr>\n",
       "    <tr>\n",
       "      <th>2</th>\n",
       "      <td>56244</td>\n",
       "      <td>Arsen Julfalakyan</td>\n",
       "      <td>M</td>\n",
       "      <td>29.0</td>\n",
       "      <td>166.0</td>\n",
       "      <td>76.0</td>\n",
       "      <td>Armenia</td>\n",
       "      <td>ARM</td>\n",
       "      <td>2016 Summer</td>\n",
       "      <td>2016</td>\n",
       "      <td>Summer</td>\n",
       "      <td>Rio de Janeiro</td>\n",
       "      <td>Wrestling</td>\n",
       "      <td>Wrestling Men's Middleweight, Greco-Roman</td>\n",
       "      <td>NaN</td>\n",
       "    </tr>\n",
       "    <tr>\n",
       "      <th>3</th>\n",
       "      <td>41810</td>\n",
       "      <td>Lalonde Keida Gordon</td>\n",
       "      <td>M</td>\n",
       "      <td>27.0</td>\n",
       "      <td>179.0</td>\n",
       "      <td>83.0</td>\n",
       "      <td>Trinidad and Tobago</td>\n",
       "      <td>TTO</td>\n",
       "      <td>2016 Summer</td>\n",
       "      <td>2016</td>\n",
       "      <td>Summer</td>\n",
       "      <td>Rio de Janeiro</td>\n",
       "      <td>Athletics</td>\n",
       "      <td>Athletics Men's 4 x 400 metres Relay</td>\n",
       "      <td>NaN</td>\n",
       "    </tr>\n",
       "    <tr>\n",
       "      <th>4</th>\n",
       "      <td>41810</td>\n",
       "      <td>Lalonde Keida Gordon</td>\n",
       "      <td>M</td>\n",
       "      <td>27.0</td>\n",
       "      <td>179.0</td>\n",
       "      <td>83.0</td>\n",
       "      <td>Trinidad and Tobago</td>\n",
       "      <td>TTO</td>\n",
       "      <td>2016 Summer</td>\n",
       "      <td>2016</td>\n",
       "      <td>Summer</td>\n",
       "      <td>Rio de Janeiro</td>\n",
       "      <td>Athletics</td>\n",
       "      <td>Athletics Men's 400 metres</td>\n",
       "      <td>NaN</td>\n",
       "    </tr>\n",
       "  </tbody>\n",
       "</table>\n",
       "</div>"
      ],
      "text/plain": [
       "      ID                      Name Sex   Age  Height  Weight  \\\n",
       "0  99780        Maximilian Reinelt   M  27.0   195.0    98.0   \n",
       "1  45859  Sophie Elizabeth Hansson   F  18.0   186.0    74.0   \n",
       "2  56244         Arsen Julfalakyan   M  29.0   166.0    76.0   \n",
       "3  41810      Lalonde Keida Gordon   M  27.0   179.0    83.0   \n",
       "4  41810      Lalonde Keida Gordon   M  27.0   179.0    83.0   \n",
       "\n",
       "                  Team  NOC        Games  Year  Season            City  \\\n",
       "0              Germany  GER  2016 Summer  2016  Summer  Rio de Janeiro   \n",
       "1               Sweden  SWE  2016 Summer  2016  Summer  Rio de Janeiro   \n",
       "2              Armenia  ARM  2016 Summer  2016  Summer  Rio de Janeiro   \n",
       "3  Trinidad and Tobago  TTO  2016 Summer  2016  Summer  Rio de Janeiro   \n",
       "4  Trinidad and Tobago  TTO  2016 Summer  2016  Summer  Rio de Janeiro   \n",
       "\n",
       "       Sport                                      Event   Medal  \n",
       "0     Rowing                  Rowing Men's Coxed Eights  Silver  \n",
       "1   Swimming   Swimming Women's 100 metres Breaststroke     NaN  \n",
       "2  Wrestling  Wrestling Men's Middleweight, Greco-Roman     NaN  \n",
       "3  Athletics       Athletics Men's 4 x 400 metres Relay     NaN  \n",
       "4  Athletics                 Athletics Men's 400 metres     NaN  "
      ]
     },
     "metadata": {},
     "output_type": "display_data"
    }
   ],
   "source": [
    "# Imprimo las primeras filas para familiarizarme con la tabla. \n",
    "display(atletas.head())"
   ]
  },
  {
   "cell_type": "code",
   "execution_count": 4,
   "metadata": {},
   "outputs": [
    {
     "name": "stdout",
     "output_type": "stream",
     "text": [
      "<class 'pandas.core.frame.DataFrame'>\n",
      "RangeIndex: 13688 entries, 0 to 13687\n",
      "Data columns (total 15 columns):\n",
      "ID        13688 non-null int64\n",
      "Name      13688 non-null object\n",
      "Sex       13688 non-null object\n",
      "Age       13688 non-null float64\n",
      "Height    13512 non-null float64\n",
      "Weight    13465 non-null float64\n",
      "Team      13688 non-null object\n",
      "NOC       13688 non-null object\n",
      "Games     13688 non-null object\n",
      "Year      13688 non-null int64\n",
      "Season    13688 non-null object\n",
      "City      13688 non-null object\n",
      "Sport     13688 non-null object\n",
      "Event     13688 non-null object\n",
      "Medal     2023 non-null object\n",
      "dtypes: float64(3), int64(2), object(10)\n",
      "memory usage: 1.6+ MB\n"
     ]
    }
   ],
   "source": [
    "# Imprimo la informacion para ver cuantos NAN tengo y los tipos que tengo en las columnas, algunos puntos:\n",
    "# Hay atletas cuyo Weight y Height tienen valores NAN que sustituiré por la media de las personas del mismo \"Event\"\n",
    "# Aquellos atletas que no tengan medallas sustituire el NAN por 'Ninguna'\n",
    "atletas.info()"
   ]
  },
  {
   "cell_type": "code",
   "execution_count": 22,
   "metadata": {},
   "outputs": [],
   "source": [
    "# Creo un diccionario que me devuelve como keys la columna por la q agrupo y su media por la columna q defino. \n",
    "def mean_by(col_group,col_func):\n",
    "    df1 = atletas.pivot_table(index=[col_group],aggfunc={col_func:\"mean\"}).reset_index() \n",
    "    diccio = dict(zip(df1[col_group],df1[col_func]))\n",
    "    return diccio"
   ]
  },
  {
   "cell_type": "code",
   "execution_count": 32,
   "metadata": {},
   "outputs": [
    {
     "name": "stdout",
     "output_type": "stream",
     "text": [
      "<class 'pandas.core.frame.DataFrame'>\n",
      "RangeIndex: 13688 entries, 0 to 13687\n",
      "Data columns (total 15 columns):\n",
      "ID        13688 non-null int64\n",
      "Name      13688 non-null object\n",
      "Sex       13688 non-null object\n",
      "Age       13688 non-null float64\n",
      "Height    13688 non-null float64\n",
      "Weight    13688 non-null float64\n",
      "Team      13688 non-null object\n",
      "NOC       13688 non-null object\n",
      "Games     13688 non-null object\n",
      "Year      13688 non-null int64\n",
      "Season    13688 non-null object\n",
      "City      13688 non-null object\n",
      "Sport     13688 non-null object\n",
      "Event     13688 non-null object\n",
      "Medal     13688 non-null object\n",
      "dtypes: float64(3), int64(2), object(10)\n",
      "memory usage: 1.6+ MB\n"
     ]
    },
    {
     "data": {
      "text/plain": [
       "None"
      ]
     },
     "metadata": {},
     "output_type": "display_data"
    }
   ],
   "source": [
    "# Sustituyo los valores NAN de height por la media del evento al q pertenecen\n",
    "atletas[\"Height\"] = atletas[[\"Height\",\"Event\"]].apply(lambda x: mean_by(\"Event\",\"Height\")[x[1]] if math.isnan(x[0]) else x[0],axis=1)\n",
    "\n",
    "# Sustituyo los valores NAN de Weight por la media del evento al q pertenecen\n",
    "atletas[\"Weight\"] = atletas[[\"Weight\",\"Event\"]].apply(lambda x: mean_by(\"Event\",\"Weight\")[x[1]] if math.isnan(x[0]) else x[0],axis=1)\n",
    "\n",
    "# Sustituyo los NAN de las medallas por \"Ninguna\"\n",
    "atletas[\"Medal\"]= atletas[\"Medal\"].fillna(\"Ninguna\")\n",
    "\n",
    "# Reviso la info para verificar que no hayan NANS\n",
    "display(atletas.info())\n"
   ]
  },
  {
   "cell_type": "code",
   "execution_count": 27,
   "metadata": {},
   "outputs": [
    {
     "name": "stdout",
     "output_type": "stream",
     "text": [
      "<class 'pandas.core.frame.DataFrame'>\n",
      "RangeIndex: 13688 entries, 0 to 13687\n",
      "Data columns (total 15 columns):\n",
      "ID        13688 non-null int64\n",
      "Name      13688 non-null object\n",
      "Sex       13688 non-null object\n",
      "Age       13688 non-null float64\n",
      "Height    13688 non-null float64\n",
      "Weight    13688 non-null float64\n",
      "Team      13688 non-null object\n",
      "NOC       13688 non-null object\n",
      "Games     13688 non-null object\n",
      "Year      13688 non-null int64\n",
      "Season    13688 non-null object\n",
      "City      13688 non-null object\n",
      "Sport     13688 non-null object\n",
      "Event     13688 non-null object\n",
      "Medal     2023 non-null object\n",
      "dtypes: float64(3), int64(2), object(10)\n",
      "memory usage: 1.6+ MB\n"
     ]
    }
   ],
   "source": []
  },
  {
   "cell_type": "code",
   "execution_count": null,
   "metadata": {},
   "outputs": [],
   "source": []
  },
  {
   "cell_type": "code",
   "execution_count": null,
   "metadata": {},
   "outputs": [],
   "source": []
  },
  {
   "cell_type": "code",
   "execution_count": null,
   "metadata": {},
   "outputs": [],
   "source": []
  }
 ],
 "metadata": {
  "kernelspec": {
   "display_name": "Python 3",
   "language": "python",
   "name": "python3"
  },
  "language_info": {
   "codemirror_mode": {
    "name": "ipython",
    "version": 3
   },
   "file_extension": ".py",
   "mimetype": "text/x-python",
   "name": "python",
   "nbconvert_exporter": "python",
   "pygments_lexer": "ipython3",
   "version": "3.7.0"
  }
 },
 "nbformat": 4,
 "nbformat_minor": 2
}
