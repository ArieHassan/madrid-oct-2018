{
 "cells": [
  {
   "cell_type": "code",
   "execution_count": 1,
   "metadata": {},
   "outputs": [],
   "source": [
    "import pandas as pd\n",
    "import numpy as np\n",
    "import math\n",
    "import matplotlib.pyplot as plt\n",
    "from funciones import mean_by, win_medals"
   ]
  },
  {
   "cell_type": "code",
   "execution_count": 2,
   "metadata": {},
   "outputs": [
    {
     "data": {
      "text/plain": [
       "'El archivo original que me descargo de Kaggle ocupa 48 Mb, tiene datos de los resultados de las olimpiadas\\nen los ultimos 120 anios, el archivo original lo filtre para obtener solo resultados de las ultimas olimpiadas,\\nlo exporto como un nuevo CSV, que es el archivo el que estoy trabajando, este fue el codigo que utilice \\npara hacer la operacion descrita: \\n\\n    df = pd.read_csv(\"athlete_events.csv\")\\n    df_filtrado = df.sort_values(by=\"Year\",ascending=False)\\n    df2 = df_filtrado[df_filtrado[\"Year\"]==2016]\\n    data = df2.to_csv(\\'Athletes_Events.csv\\', index=False)\\n'"
      ]
     },
     "execution_count": 2,
     "metadata": {},
     "output_type": "execute_result"
    }
   ],
   "source": [
    "\"\"\"El archivo original que me descargo de Kaggle ocupa 48 Mb, tiene datos de los resultados de las olimpiadas\n",
    "en los ultimos 120 anios, el archivo original lo filtre para obtener solo resultados de las ultimas olimpiadas,\n",
    "lo exporto como un nuevo CSV, que es el archivo el que estoy trabajando, este fue el codigo que utilice \n",
    "para hacer la operacion descrita: \n",
    "\n",
    "    df = pd.read_csv(\"athlete_events.csv\")\n",
    "    df_filtrado = df.sort_values(by=\"Year\",ascending=False)\n",
    "    df2 = df_filtrado[df_filtrado[\"Year\"]==2016]\n",
    "    data = df2.to_csv('Athletes_Events.csv', index=False)\n",
    "\"\"\""
   ]
  },
  {
   "cell_type": "code",
   "execution_count": 3,
   "metadata": {},
   "outputs": [],
   "source": [
    "# Importo el archivo \n",
    "atletas = pd.read_csv(\"Athletes_Events.csv\")"
   ]
  },
  {
   "cell_type": "code",
   "execution_count": 4,
   "metadata": {},
   "outputs": [
    {
     "data": {
      "text/html": [
       "<div>\n",
       "<style scoped>\n",
       "    .dataframe tbody tr th:only-of-type {\n",
       "        vertical-align: middle;\n",
       "    }\n",
       "\n",
       "    .dataframe tbody tr th {\n",
       "        vertical-align: top;\n",
       "    }\n",
       "\n",
       "    .dataframe thead th {\n",
       "        text-align: right;\n",
       "    }\n",
       "</style>\n",
       "<table border=\"1\" class=\"dataframe\">\n",
       "  <thead>\n",
       "    <tr style=\"text-align: right;\">\n",
       "      <th></th>\n",
       "      <th>ID</th>\n",
       "      <th>Name</th>\n",
       "      <th>Sex</th>\n",
       "      <th>Age</th>\n",
       "      <th>Height</th>\n",
       "      <th>Weight</th>\n",
       "      <th>Team</th>\n",
       "      <th>NOC</th>\n",
       "      <th>Games</th>\n",
       "      <th>Year</th>\n",
       "      <th>Season</th>\n",
       "      <th>City</th>\n",
       "      <th>Sport</th>\n",
       "      <th>Event</th>\n",
       "      <th>Medal</th>\n",
       "    </tr>\n",
       "  </thead>\n",
       "  <tbody>\n",
       "    <tr>\n",
       "      <th>0</th>\n",
       "      <td>99780</td>\n",
       "      <td>Maximilian Reinelt</td>\n",
       "      <td>M</td>\n",
       "      <td>27.0</td>\n",
       "      <td>195.0</td>\n",
       "      <td>98.0</td>\n",
       "      <td>Germany</td>\n",
       "      <td>GER</td>\n",
       "      <td>2016 Summer</td>\n",
       "      <td>2016</td>\n",
       "      <td>Summer</td>\n",
       "      <td>Rio de Janeiro</td>\n",
       "      <td>Rowing</td>\n",
       "      <td>Rowing Men's Coxed Eights</td>\n",
       "      <td>Silver</td>\n",
       "    </tr>\n",
       "    <tr>\n",
       "      <th>1</th>\n",
       "      <td>45859</td>\n",
       "      <td>Sophie Elizabeth Hansson</td>\n",
       "      <td>F</td>\n",
       "      <td>18.0</td>\n",
       "      <td>186.0</td>\n",
       "      <td>74.0</td>\n",
       "      <td>Sweden</td>\n",
       "      <td>SWE</td>\n",
       "      <td>2016 Summer</td>\n",
       "      <td>2016</td>\n",
       "      <td>Summer</td>\n",
       "      <td>Rio de Janeiro</td>\n",
       "      <td>Swimming</td>\n",
       "      <td>Swimming Women's 100 metres Breaststroke</td>\n",
       "      <td>NaN</td>\n",
       "    </tr>\n",
       "    <tr>\n",
       "      <th>2</th>\n",
       "      <td>56244</td>\n",
       "      <td>Arsen Julfalakyan</td>\n",
       "      <td>M</td>\n",
       "      <td>29.0</td>\n",
       "      <td>166.0</td>\n",
       "      <td>76.0</td>\n",
       "      <td>Armenia</td>\n",
       "      <td>ARM</td>\n",
       "      <td>2016 Summer</td>\n",
       "      <td>2016</td>\n",
       "      <td>Summer</td>\n",
       "      <td>Rio de Janeiro</td>\n",
       "      <td>Wrestling</td>\n",
       "      <td>Wrestling Men's Middleweight, Greco-Roman</td>\n",
       "      <td>NaN</td>\n",
       "    </tr>\n",
       "    <tr>\n",
       "      <th>3</th>\n",
       "      <td>41810</td>\n",
       "      <td>Lalonde Keida Gordon</td>\n",
       "      <td>M</td>\n",
       "      <td>27.0</td>\n",
       "      <td>179.0</td>\n",
       "      <td>83.0</td>\n",
       "      <td>Trinidad and Tobago</td>\n",
       "      <td>TTO</td>\n",
       "      <td>2016 Summer</td>\n",
       "      <td>2016</td>\n",
       "      <td>Summer</td>\n",
       "      <td>Rio de Janeiro</td>\n",
       "      <td>Athletics</td>\n",
       "      <td>Athletics Men's 4 x 400 metres Relay</td>\n",
       "      <td>NaN</td>\n",
       "    </tr>\n",
       "    <tr>\n",
       "      <th>4</th>\n",
       "      <td>41810</td>\n",
       "      <td>Lalonde Keida Gordon</td>\n",
       "      <td>M</td>\n",
       "      <td>27.0</td>\n",
       "      <td>179.0</td>\n",
       "      <td>83.0</td>\n",
       "      <td>Trinidad and Tobago</td>\n",
       "      <td>TTO</td>\n",
       "      <td>2016 Summer</td>\n",
       "      <td>2016</td>\n",
       "      <td>Summer</td>\n",
       "      <td>Rio de Janeiro</td>\n",
       "      <td>Athletics</td>\n",
       "      <td>Athletics Men's 400 metres</td>\n",
       "      <td>NaN</td>\n",
       "    </tr>\n",
       "  </tbody>\n",
       "</table>\n",
       "</div>"
      ],
      "text/plain": [
       "      ID                      Name Sex   Age  Height  Weight  \\\n",
       "0  99780        Maximilian Reinelt   M  27.0   195.0    98.0   \n",
       "1  45859  Sophie Elizabeth Hansson   F  18.0   186.0    74.0   \n",
       "2  56244         Arsen Julfalakyan   M  29.0   166.0    76.0   \n",
       "3  41810      Lalonde Keida Gordon   M  27.0   179.0    83.0   \n",
       "4  41810      Lalonde Keida Gordon   M  27.0   179.0    83.0   \n",
       "\n",
       "                  Team  NOC        Games  Year  Season            City  \\\n",
       "0              Germany  GER  2016 Summer  2016  Summer  Rio de Janeiro   \n",
       "1               Sweden  SWE  2016 Summer  2016  Summer  Rio de Janeiro   \n",
       "2              Armenia  ARM  2016 Summer  2016  Summer  Rio de Janeiro   \n",
       "3  Trinidad and Tobago  TTO  2016 Summer  2016  Summer  Rio de Janeiro   \n",
       "4  Trinidad and Tobago  TTO  2016 Summer  2016  Summer  Rio de Janeiro   \n",
       "\n",
       "       Sport                                      Event   Medal  \n",
       "0     Rowing                  Rowing Men's Coxed Eights  Silver  \n",
       "1   Swimming   Swimming Women's 100 metres Breaststroke     NaN  \n",
       "2  Wrestling  Wrestling Men's Middleweight, Greco-Roman     NaN  \n",
       "3  Athletics       Athletics Men's 4 x 400 metres Relay     NaN  \n",
       "4  Athletics                 Athletics Men's 400 metres     NaN  "
      ]
     },
     "metadata": {},
     "output_type": "display_data"
    }
   ],
   "source": [
    "# Imprimo las primeras filas para familiarizarme con la tabla. \n",
    "display(atletas.head())"
   ]
  },
  {
   "cell_type": "code",
   "execution_count": 5,
   "metadata": {},
   "outputs": [
    {
     "name": "stdout",
     "output_type": "stream",
     "text": [
      "<class 'pandas.core.frame.DataFrame'>\n",
      "RangeIndex: 13688 entries, 0 to 13687\n",
      "Data columns (total 15 columns):\n",
      "ID        13688 non-null int64\n",
      "Name      13688 non-null object\n",
      "Sex       13688 non-null object\n",
      "Age       13688 non-null float64\n",
      "Height    13512 non-null float64\n",
      "Weight    13465 non-null float64\n",
      "Team      13688 non-null object\n",
      "NOC       13688 non-null object\n",
      "Games     13688 non-null object\n",
      "Year      13688 non-null int64\n",
      "Season    13688 non-null object\n",
      "City      13688 non-null object\n",
      "Sport     13688 non-null object\n",
      "Event     13688 non-null object\n",
      "Medal     2023 non-null object\n",
      "dtypes: float64(3), int64(2), object(10)\n",
      "memory usage: 1.6+ MB\n"
     ]
    }
   ],
   "source": [
    "# Imprimo la informacion para ver cuantos NAN tengo y los tipos que tengo en las columnas, algunos puntos:\n",
    "# Hay atletas cuyo Weight y Height tienen valores NAN que sustituiré por la media de las personas del mismo \"Event\"\n",
    "# Aquellos atletas que no tengan medallas sustituire el NAN por 'Ninguna'\n",
    "atletas.info()"
   ]
  },
  {
   "cell_type": "code",
   "execution_count": 7,
   "metadata": {},
   "outputs": [
    {
     "name": "stdout",
     "output_type": "stream",
     "text": [
      "<class 'pandas.core.frame.DataFrame'>\n",
      "RangeIndex: 13688 entries, 0 to 13687\n",
      "Data columns (total 15 columns):\n",
      "ID        13688 non-null int64\n",
      "Name      13688 non-null object\n",
      "Sex       13688 non-null object\n",
      "Age       13688 non-null float64\n",
      "Height    13688 non-null float64\n",
      "Weight    13688 non-null float64\n",
      "Team      13688 non-null object\n",
      "NOC       13688 non-null object\n",
      "Games     13688 non-null object\n",
      "Year      13688 non-null int64\n",
      "Season    13688 non-null object\n",
      "City      13688 non-null object\n",
      "Sport     13688 non-null object\n",
      "Event     13688 non-null object\n",
      "Medal     13688 non-null object\n",
      "dtypes: float64(3), int64(2), object(10)\n",
      "memory usage: 1.6+ MB\n"
     ]
    },
    {
     "data": {
      "text/plain": [
       "None"
      ]
     },
     "metadata": {},
     "output_type": "display_data"
    }
   ],
   "source": [
    "\"\"\"Utilizo la funccion mean_by la cual me devuelve como keys la columna por la q agrupo y su media \n",
    "por la columna q defino, la funcion la cree en un fichero separado y la importe\"\"\"\n",
    "\n",
    "# Sustituyo los valores NAN de height por la media del evento al q pertenecen\n",
    "atletas[\"Height\"] = atletas[[\"Height\",\"Event\"]].apply(lambda x: mean_by(atletas,\"Event\",\"Height\")[x[1]] if math.isnan(x[0]) else x[0],axis=1)\n",
    "\n",
    "# Sustituyo los valores NAN de Weight por la media del evento al q pertenecen\n",
    "atletas[\"Weight\"] = atletas[[\"Weight\",\"Event\"]].apply(lambda x: mean_by(atletas,\"Event\",\"Weight\")[x[1]] if math.isnan(x[0]) else x[0],axis=1)\n",
    "\n",
    "# Sustituyo los NAN de las medallas por \"Ninguna\"\n",
    "atletas[\"Medal\"]= atletas[\"Medal\"].fillna(\"Ninguna\")\n",
    "\n",
    "# Reviso la info para verificar que no hayan NANS\n",
    "display(atletas.info())\n"
   ]
  },
  {
   "cell_type": "code",
   "execution_count": 8,
   "metadata": {},
   "outputs": [
    {
     "name": "stdout",
     "output_type": "stream",
     "text": [
      "Bronze Medals won: \n",
      "NOC\n",
      "USA    71.0\n",
      "GER    67.0\n",
      "CAN    61.0\n",
      "Name: Bronze, dtype: float64\n",
      "-------------- \n",
      "\n",
      "Silver Medals won: \n",
      "NOC\n",
      "GBR    55.0\n",
      "FRA    55.0\n",
      "USA    54.0\n",
      "Name: Silver, dtype: float64\n",
      "-------------- \n",
      "\n",
      "Gold Medals won: \n",
      "NOC\n",
      "USA    139.0\n",
      "GBR     64.0\n",
      "RUS     52.0\n",
      "Name: Gold, dtype: float64\n",
      "-------------- \n",
      "\n",
      "More combined Medals won:\n",
      "NOC\n",
      "USA    264\n",
      "GER    159\n",
      "GBR    145\n",
      "Name: Medal, dtype: int64\n"
     ]
    }
   ],
   "source": [
    "# Veamos cuaes son los 3 paises que mas medallas ganaron de oro,plata,bronce y combinado. \n",
    "\n",
    "# Comienzo creando un nuevo dataframe limpio con solo aquellos paises que ganaron alguna medalla.\n",
    "filtrado = atletas[atletas[\"Medal\"]!=\"Ninguna\"][[\"NOC\",\"Medal\"]]\n",
    "\n",
    "# Importo la funcion creada por mi win_medals para ver cuales son los paises que mas medalla de un tipo ganaron:\n",
    "\n",
    "medallas = [\"Bronze\",\"Silver\",\"Gold\"]\n",
    "for med in medallas:\n",
    "    print(med + \" Medals won: \")\n",
    "    print(win_medals(filtrado,med))\n",
    "    print(\"-------------- \\n\")\n",
    "    \n",
    "#Mas medallas combinadas vemos que fue USA con 264\n",
    "print(\"More combined Medals won:\")\n",
    "print(filtrado.groupby(\"NOC\")[\"Medal\"].count().sort_values(ascending=False).head(3))"
   ]
  },
  {
   "cell_type": "code",
   "execution_count": 9,
   "metadata": {},
   "outputs": [
    {
     "data": {
      "image/png": "[encoded data removed]",
      "text/plain": [
       "<Figure size 432x288 with 1 Axes>"
      ]
     },
     "metadata": {
      "needs_background": "light"
     },
     "output_type": "display_data"
    }
   ],
   "source": [
    "# Demostrememos que existe una correlacion (la cual es evidente) entre altura y peso. \n",
    "\n",
    "atletas[\"Weight\"].corr(atletas[\"Height\"])\n",
    "_= plt.scatter(x=atletas[\"Weight\"],y=atletas[\"Height\"])"
   ]
  },
  {
   "cell_type": "code",
   "execution_count": 10,
   "metadata": {},
   "outputs": [
    {
     "data": {
      "text/plain": [
       "0.05842322750054002"
      ]
     },
     "metadata": {},
     "output_type": "display_data"
    },
    {
     "data": {
      "image/png": "[encoded data removed]",
      "text/plain": [
       "<Figure size 432x288 with 1 Axes>"
      ]
     },
     "metadata": {
      "needs_background": "light"
     },
     "output_type": "display_data"
    }
   ],
   "source": [
    "\"\"\"Midamos si existe alguna relacion evidente entre la altura de los atletas de atletimos y las medallas ganadas\"\"\"\n",
    "\n",
    "# Creamos una nueva columna que asigne un valor numerico a las medallas oro:3, plata:2, bronce:1. \n",
    "atletas[\"Medal Numb\"] = atletas[\"Medal\"].apply(lambda x: 0 if x ==\"Ninguna\" else 1 if x==\"Bronze\" else 2 if x==\"Silver\" else 3  if x==\"Gold\" else 0)\n",
    "\n",
    "# Filtramos la tabla para atletismo. \n",
    "athletics = atletas[atletas[\"Sport\"]==\"Athletics\"]\n",
    "\n",
    "# Imprimimos la correlacion y un grafico. No parece haber ninguna relacion.\n",
    "# Es evidente que el correlacion de pearson va a dar bajo ya que no puede existir una relacion lineal debido a como\n",
    "# esta definida la columna del valor numerico de las medallas. \n",
    "display(athletics[\"Height\"].corr(athletics[\"Medal Numb\"]))\n",
    "_= plt.scatter(x=athletics[\"Medal Numb\"],y=athletics[\"Height\"])"
   ]
  },
  {
   "cell_type": "code",
   "execution_count": 11,
   "metadata": {},
   "outputs": [
    {
     "name": "stderr",
     "output_type": "stream",
     "text": [
      "/usr/local/Cellar/ipython/7.0.1/libexec/vendor/lib/python3.7/site-packages/ipykernel_launcher.py:5: SettingWithCopyWarning: \n",
      "A value is trying to be set on a copy of a slice from a DataFrame.\n",
      "Try using .loc[row_indexer,col_indexer] = value instead\n",
      "\n",
      "See the caveats in the documentation: http://pandas.pydata.org/pandas-docs/stable/indexing.html#indexing-view-versus-copy\n",
      "  \"\"\"\n"
     ]
    }
   ],
   "source": [
    "# Investiguemos en que deporte la diferencia de la altura media entre los que ganaron medalla y los que no es mayor.\n",
    "\n",
    "# Creo una nueva columna para distinguir entre aquellos que tienen medallas y los que no. \n",
    "data = atletas[[\"Height\",\"Sport\",\"Medal\"]]\n",
    "data[\"Medal2\"]= data[\"Medal\"].apply(lambda x: 0 if x ==\"Ninguna\" else 1)"
   ]
  },
  {
   "cell_type": "code",
   "execution_count": 13,
   "metadata": {},
   "outputs": [
    {
     "data": {
      "text/html": [
       "<div>\n",
       "<style scoped>\n",
       "    .dataframe tbody tr th:only-of-type {\n",
       "        vertical-align: middle;\n",
       "    }\n",
       "\n",
       "    .dataframe tbody tr th {\n",
       "        vertical-align: top;\n",
       "    }\n",
       "\n",
       "    .dataframe thead th {\n",
       "        text-align: right;\n",
       "    }\n",
       "</style>\n",
       "<table border=\"1\" class=\"dataframe\">\n",
       "  <thead>\n",
       "    <tr style=\"text-align: right;\">\n",
       "      <th></th>\n",
       "      <th>Sport</th>\n",
       "      <th>0</th>\n",
       "    </tr>\n",
       "  </thead>\n",
       "  <tbody>\n",
       "    <tr>\n",
       "      <th>12</th>\n",
       "      <td>Golf</td>\n",
       "      <td>5.263158</td>\n",
       "    </tr>\n",
       "    <tr>\n",
       "      <th>17</th>\n",
       "      <td>Modern Pentathlon</td>\n",
       "      <td>4.772727</td>\n",
       "    </tr>\n",
       "    <tr>\n",
       "      <th>30</th>\n",
       "      <td>Volleyball</td>\n",
       "      <td>3.336032</td>\n",
       "    </tr>\n",
       "    <tr>\n",
       "      <th>15</th>\n",
       "      <td>Hockey</td>\n",
       "      <td>3.223159</td>\n",
       "    </tr>\n",
       "    <tr>\n",
       "      <th>23</th>\n",
       "      <td>Swimming</td>\n",
       "      <td>3.132877</td>\n",
       "    </tr>\n",
       "  </tbody>\n",
       "</table>\n",
       "</div>"
      ],
      "text/plain": [
       "                Sport         0\n",
       "12               Golf  5.263158\n",
       "17  Modern Pentathlon  4.772727\n",
       "30         Volleyball  3.336032\n",
       "15             Hockey  3.223159\n",
       "23           Swimming  3.132877"
      ]
     },
     "metadata": {},
     "output_type": "display_data"
    }
   ],
   "source": [
    "# Creo una tabla pivot para agrupar la informacion como me interesa.\n",
    "data2 = data.pivot_table(index=[\"Sport\",\"Medal2\"]).reset_index()\n",
    "data3 = data2.pivot_table(index=\"Sport\",columns=\"Medal2\")\n",
    "\n",
    "# Creo un dataframe con la media de las diferencias para luego ordenarlo y calcular la max. \n",
    "diferencias = pd.DataFrame(data3.iloc[:].iloc[:,1] - data3.iloc[:].iloc[:,0]).reset_index()\n",
    "\n",
    "# Observamos que sorpresivamente donde mayor diferencia hay es en el Golf (5.3 cm)\n",
    "display(diferencias.sort_values(by=0,ascending=False).head())"
   ]
  }
 ],
 "metadata": {
  "kernelspec": {
   "display_name": "Python 3",
   "language": "python",
   "name": "python3"
  },
  "language_info": {
   "codemirror_mode": {
    "name": "ipython",
    "version": 3
   },
   "file_extension": ".py",
   "mimetype": "text/x-python",
   "name": "python",
   "nbconvert_exporter": "python",
   "pygments_lexer": "ipython3",
   "version": "3.7.0"
  }
 },
 "nbformat": 4,
 "nbformat_minor": 2
}
