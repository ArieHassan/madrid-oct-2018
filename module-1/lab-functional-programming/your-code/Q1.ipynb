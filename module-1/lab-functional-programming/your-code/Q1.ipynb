{
 "cells": [
  {
   "cell_type": "markdown",
   "metadata": {},
   "source": [
    "In the cell below, create a Python function that wraps your previous solution for the Bag of Words lab.\n",
    "\n",
    "Requirements:\n",
    "\n",
    "1. Your function should accept the following parameters:\n",
    "    * `docs` [REQUIRED] - array of document paths.\n",
    "    * `stop_words` [OPTIONAL] - array of stop words. The default value is an empty array.\n",
    "\n",
    "1. Your function should return a Python object that contains the following:\n",
    "    * `bag_of_words` - array of strings of normalized unique words in the corpus.\n",
    "    * `term_freq` - array of the term-frequency vectors."
   ]
  },
  {
   "cell_type": "code",
   "execution_count": 7,
   "metadata": {},
   "outputs": [],
   "source": [
    "# Import required libraries\n",
    "import re \n",
    "# Define function\n",
    "def get_bow_from_docs(docs, stop_words=[]):\n",
    "    # In the function, first define the variables you will use such as `corpus`, `bag_of_words`, and `term_freq`       \n",
    "    \"\"\"\n",
    "    Loop `docs` and read the content of each doc into a string in `corpus`.\n",
    "    Remember to convert the doc content to lowercases and remove punctuation.\n",
    "    \"\"\"\n",
    "    corpus = [(open(doc,\"r\").read().lower().replace(\".\",\"\")) for doc in docs]\n",
    "        \n",
    "    \"\"\"\n",
    "    Loop `corpus`. Append the terms in each doc into the `bag_of_words` array. The terms in `bag_of_words` \n",
    "    should be unique which means before adding each term you need to check if it's already added to the array.\n",
    "    In addition, check if each term is in the `stop_words` array. Only append the term to `bag_of_words`\n",
    "    if it is not a stop word.\n",
    "    \"\"\"\n",
    "    bag_of_words = []\n",
    "    [bag_of_words.append(palabras) for textos in corpus for palabras in textos.split() \n",
    "     if (palabras not in bag_of_words) and (palabras not in stop_words)]\n",
    "\n",
    "    \n",
    "    \"\"\"\n",
    "    Loop `corpus` again. For each doc string, count the number of occurrences of each term in `bag_of_words`. \n",
    "    Create an array for each doc's term frequency and append it to `term_freq`.\n",
    "    \"\"\"\n",
    "    term_freq = []\n",
    "    for oracion in corpus:\n",
    "        term_freq_2 = []\n",
    "        for palabras in bag_of_words:\n",
    "            if sum([1 if palabras == pal else 0 for pal in oracion.split()])>=1:\n",
    "                term_freq_2.append(1)    \n",
    "            else:\n",
    "                term_freq_2.append(0)\n",
    "        term_freq.append(term_freq_2)\n",
    "    \n",
    "    # Now return your output as an object\n",
    "    return {\n",
    "        \"bag_of_words\": bag_of_words,\n",
    "        \"term_freq\": term_freq\n",
    "    }\n",
    "    "
   ]
  },
  {
   "cell_type": "markdown",
   "metadata": {},
   "source": [
    "Test your function without stop words. You should see the output like below:\n",
    "\n",
    "```{'bag_of_words': ['ironhack', 'is', 'cool', 'i', 'love', 'am', 'a', 'student', 'at'], 'term_freq': [[1, 1, 1, 0, 0, 0, 0, 0, 0], [1, 0, 0, 1, 1, 0, 0, 0, 0], [1, 0, 0, 1, 0, 1, 1, 1, 1]]}```"
   ]
  },
  {
   "cell_type": "code",
   "execution_count": 3,
   "metadata": {},
   "outputs": [
    {
     "name": "stdout",
     "output_type": "stream",
     "text": [
      "{'bag_of_words': ['ironhack', 'is', 'cool', 'i', 'love', 'am', 'a', 'student', 'at'], 'term_freq': [[1, 1, 1, 0, 0, 0, 0, 0, 0], [1, 0, 0, 1, 1, 0, 0, 0, 0], [1, 0, 0, 1, 0, 1, 1, 1, 1]]}\n"
     ]
    }
   ],
   "source": [
    "# Define doc paths array\n",
    "docs = ['doc1.txt', 'doc2.txt', 'doc3.txt']\n",
    "\n",
    "# Obtain BoW from your function\n",
    "bow = get_bow_from_docs(docs)\n",
    "\n",
    "# Print BoW\n",
    "print(bow)"
   ]
  },
  {
   "cell_type": "markdown",
   "metadata": {},
   "source": [
    "If your attempt above is successful, nice work done!\n",
    "\n",
    "Now test your function again with the stop words. In the previous lab we defined the stop words in a large array. In this lab, we'll import the stop words from Scikit-Learn."
   ]
  },
  {
   "cell_type": "code",
   "execution_count": 5,
   "metadata": {},
   "outputs": [
    {
     "name": "stdout",
     "output_type": "stream",
     "text": [
      "frozenset({'about', 'almost', 'therefore', 'own', 'again', 'three', 'hers', 'across', 'became', 'all', 'below', 'hereby', 'sometimes', 'thick', 'ours', 'within', 'the', 'too', 'alone', 'through', 'please', 'meanwhile', 'name', 'at', 'himself', 'five', 'up', 'third', 'bottom', 'whence', 'ie', 'fifteen', 'was', 'nevertheless', 'whether', 'otherwise', 'hereupon', 'but', 'our', 'by', 'due', 'an', 'co', 'thus', 'whither', 'thence', 'in', 'inc', 'anything', 'it', 'former', 'into', 'everywhere', 'throughout', 'where', 'rather', 'no', 'whoever', 'with', 'seems', 'can', 'two', 'first', 'mostly', 'show', 'both', 'among', 'do', 'latterly', 'your', 'beside', 'itself', 'from', 'then', 'therein', 'everything', 'for', 'thereupon', 'nor', 'should', 'others', 'somewhere', 'any', 'detail', 'nothing', 'thereby', 'which', 'thin', 'also', 'forty', 'he', 'empty', 'however', 'hasnt', 'here', 'often', 'except', 'every', 'me', 'since', 'his', 'take', 'a', 'if', 'whenever', 'who', 'their', 'else', 'had', 'only', 'part', 'noone', 'after', 'back', 'few', 'have', 'side', 'elsewhere', 'cry', 'those', 'full', 'will', 'is', 'so', 'front', 'whereby', 'behind', 'found', 'etc', 'to', 'indeed', 'myself', 'whose', 'most', 'seeming', 'you', 'are', 'serious', 'somehow', 'made', 'than', 'further', 'four', 'already', 'whereas', 'afterwards', 'couldnt', 'whom', 'becoming', 'these', 'yourself', 'and', 'still', 'latter', 'them', 'eg', 'namely', 're', 'off', 'she', 'such', 'between', 'de', 'were', 'seemed', 'more', 'anyone', 'per', 'everyone', 'amoungst', 'ten', 'may', 'yours', 'one', 'fire', 'six', 'my', 'keep', 'or', 'twenty', 'neither', 'that', 'mine', 'above', 'been', 'none', 'thru', 'whatever', 'over', 'cant', 'something', 'wherein', 'around', 'what', 'hereafter', 'fill', 'of', 'why', 'onto', 'anywhere', 'give', 'though', 'sixty', 'nowhere', 'become', 'while', 'besides', 'anyway', 'themselves', 'put', 'i', 'upon', 'not', 'less', 'twelve', 'done', 'amongst', 'would', 'next', 'out', 'nine', 'might', 'via', 'go', 'before', 'without', 'although', 'hundred', 'yet', 'on', 'towards', 'we', 'call', 'least', 'be', 'must', 'un', 'see', 'eleven', 'cannot', 'could', 'seem', 'nobody', 'much', 'last', 'never', 'thereafter', 'together', 'get', 'against', 'eight', 'as', 'beforehand', 'enough', 'bill', 'us', 'anyhow', 'when', 'ltd', 'once', 'along', 'becomes', 'con', 'top', 'well', 'perhaps', 'there', 'very', 'system', 'another', 'sometime', 'interest', 'until', 'several', 'yourselves', 'describe', 'amount', 'same', 'wherever', 'because', 'ever', 'whereafter', 'under', 'its', 'beyond', 'each', 'mill', 'some', 'am', 'how', 'being', 'during', 'this', 'herein', 'hence', 'many', 'move', 'formerly', 'other', 'someone', 'toward', 'they', 'herself', 'even', 'down', 'always', 'fifty', 'now', 'ourselves', 'whole', 'whereupon', 'either', 'her', 'moreover', 'him', 'sincere', 'has', 'find'})\n"
     ]
    }
   ],
   "source": [
    "from sklearn.feature_extraction import stop_words\n",
    "print(stop_words.ENGLISH_STOP_WORDS)"
   ]
  },
  {
   "cell_type": "markdown",
   "metadata": {},
   "source": [
    "You should have seen a large list of words that looks like:\n",
    "\n",
    "```frozenset({'across', 'mine', 'cannot', ...})```\n",
    "\n",
    "`frozenset` is a type of Python object that is immutable. In this lab you can use it just like an array without conversion."
   ]
  },
  {
   "cell_type": "markdown",
   "metadata": {},
   "source": [
    "Next, test your function with supplying `stop_words.ENGLISH_STOP_WORDS` as the second parameter."
   ]
  },
  {
   "cell_type": "code",
   "execution_count": 10,
   "metadata": {},
   "outputs": [
    {
     "name": "stdout",
     "output_type": "stream",
     "text": [
      "{'bag_of_words': ['ironhack', 'cool', 'love', 'student'], 'term_freq': [[1, 1, 0, 0], [1, 0, 1, 0], [1, 0, 0, 1]]}\n"
     ]
    }
   ],
   "source": [
    "bow = get_bow_from_docs(docs, stop_words.ENGLISH_STOP_WORDS)\n",
    "\n",
    "print(bow)"
   ]
  },
  {
   "cell_type": "markdown",
   "metadata": {},
   "source": [
    "You should have seen:\n",
    "\n",
    "```{'bag_of_words': ['ironhack', 'cool', 'love', 'student'], 'term_freq': [[1, 1, 0, 0], [1, 0, 1, 0], [1, 0, 0, 1]]}```"
   ]
  },
  {
   "cell_type": "code",
   "execution_count": null,
   "metadata": {},
   "outputs": [],
   "source": []
  }
 ],
 "metadata": {
  "kernelspec": {
   "display_name": "Python 3",
   "language": "python",
   "name": "python3"
  },
  "language_info": {
   "codemirror_mode": {
    "name": "ipython",
    "version": 3
   },
   "file_extension": ".py",
   "mimetype": "text/x-python",
   "name": "python",
   "nbconvert_exporter": "python",
   "pygments_lexer": "ipython3",
   "version": "3.7.0"
  }
 },
 "nbformat": 4,
 "nbformat_minor": 2
}
