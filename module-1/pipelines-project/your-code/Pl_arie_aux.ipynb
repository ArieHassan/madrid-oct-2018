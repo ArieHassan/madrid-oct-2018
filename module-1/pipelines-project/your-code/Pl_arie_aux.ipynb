{
 "cells": [
  {
   "cell_type": "code",
   "execution_count": 3,
   "metadata": {},
   "outputs": [],
   "source": [
    "import pandas as pd\n",
    "import matplotlib.pyplot as plt\n",
    "import seaborn as sns"
   ]
  },
  {
   "cell_type": "code",
   "execution_count": 4,
   "metadata": {},
   "outputs": [
    {
     "name": "stdout",
     "output_type": "stream",
     "text": [
      "Enter the year: 2017\n",
      "Enter the month from january till september (1-11) if you dont want to filter by month insert, 0: 9\n"
     ]
    }
   ],
   "source": [
    "year = int(input('Enter the year: '))\n",
    "month = int(input('Enter the month from january till september (1-11) if you dont want to filter by month insert, 0: ')) \n",
    "title = \"Winned matches in the {}th month of the year number {}\".format(month,year)\n"
   ]
  },
  {
   "cell_type": "markdown",
   "metadata": {},
   "source": [
    "### Acquisition"
   ]
  },
  {
   "cell_type": "code",
   "execution_count": 5,
   "metadata": {},
   "outputs": [],
   "source": [
    "def acquire():\n",
    "    file = \"./data/tenis_{}.csv\".format(year)\n",
    "    df = pd.read_csv(file)\n",
    "    return df "
   ]
  },
  {
   "cell_type": "code",
   "execution_count": 6,
   "metadata": {},
   "outputs": [],
   "source": [
    "data = acquire()\n"
   ]
  },
  {
   "cell_type": "code",
   "execution_count": null,
   "metadata": {},
   "outputs": [],
   "source": [
    "data[\"tourney_date\"] = data.tourney_date.astype(\"str\") # cambio\n",
    "data[\"tourney_date\"] = data[\"tourney_date\"].str.split(\".\",expand=True) # cambio\n",
    "data[\"tourney_date\"].head()\n",
    "\n",
    "data[\"tourney_month\"] = pd.to_datetime(data[\"tourney_date\"]).dt.month\n",
    "filtered = data[data[\"tourney_month\"] == month] # Filtro el dataframe por el mes que me interesa\n",
    "filtered.head()"
   ]
  },
  {
   "cell_type": "markdown",
   "metadata": {},
   "source": [
    "### Wrangling"
   ]
  },
  {
   "cell_type": "code",
   "execution_count": 7,
   "metadata": {
    "scrolled": true
   },
   "outputs": [
    {
     "data": {
      "text/html": [
       "<div>\n",
       "<style scoped>\n",
       "    .dataframe tbody tr th:only-of-type {\n",
       "        vertical-align: middle;\n",
       "    }\n",
       "\n",
       "    .dataframe tbody tr th {\n",
       "        vertical-align: top;\n",
       "    }\n",
       "\n",
       "    .dataframe thead th {\n",
       "        text-align: right;\n",
       "    }\n",
       "</style>\n",
       "<table border=\"1\" class=\"dataframe\">\n",
       "  <thead>\n",
       "    <tr style=\"text-align: right;\">\n",
       "      <th></th>\n",
       "      <th>tourney_id</th>\n",
       "      <th>tourney_name</th>\n",
       "      <th>surface</th>\n",
       "      <th>draw_size</th>\n",
       "      <th>tourney_level</th>\n",
       "      <th>tourney_date</th>\n",
       "      <th>match_num</th>\n",
       "      <th>winner_id</th>\n",
       "      <th>winner_seed</th>\n",
       "      <th>winner_entry</th>\n",
       "      <th>...</th>\n",
       "      <th>l_ace</th>\n",
       "      <th>l_df</th>\n",
       "      <th>l_svpt</th>\n",
       "      <th>l_1stIn</th>\n",
       "      <th>l_1stWon</th>\n",
       "      <th>l_2ndWon</th>\n",
       "      <th>l_SvGms</th>\n",
       "      <th>l_bpSaved</th>\n",
       "      <th>l_bpFaced</th>\n",
       "      <th>tourney_month</th>\n",
       "    </tr>\n",
       "  </thead>\n",
       "  <tbody>\n",
       "    <tr>\n",
       "      <th>2203</th>\n",
       "      <td>2017-0341</td>\n",
       "      <td>Metz</td>\n",
       "      <td>Hard</td>\n",
       "      <td>32</td>\n",
       "      <td>A</td>\n",
       "      <td>20170918</td>\n",
       "      <td>300</td>\n",
       "      <td>105376</td>\n",
       "      <td>NaN</td>\n",
       "      <td>Q</td>\n",
       "      <td>...</td>\n",
       "      <td>12.0</td>\n",
       "      <td>8.0</td>\n",
       "      <td>75.0</td>\n",
       "      <td>43.0</td>\n",
       "      <td>34.0</td>\n",
       "      <td>9.0</td>\n",
       "      <td>10.0</td>\n",
       "      <td>3.0</td>\n",
       "      <td>6.0</td>\n",
       "      <td>9</td>\n",
       "    </tr>\n",
       "    <tr>\n",
       "      <th>2204</th>\n",
       "      <td>2017-0341</td>\n",
       "      <td>Metz</td>\n",
       "      <td>Hard</td>\n",
       "      <td>32</td>\n",
       "      <td>A</td>\n",
       "      <td>20170918</td>\n",
       "      <td>299</td>\n",
       "      <td>105376</td>\n",
       "      <td>NaN</td>\n",
       "      <td>Q</td>\n",
       "      <td>...</td>\n",
       "      <td>3.0</td>\n",
       "      <td>0.0</td>\n",
       "      <td>24.0</td>\n",
       "      <td>15.0</td>\n",
       "      <td>9.0</td>\n",
       "      <td>5.0</td>\n",
       "      <td>5.0</td>\n",
       "      <td>0.0</td>\n",
       "      <td>2.0</td>\n",
       "      <td>9</td>\n",
       "    </tr>\n",
       "    <tr>\n",
       "      <th>2205</th>\n",
       "      <td>2017-0341</td>\n",
       "      <td>Metz</td>\n",
       "      <td>Hard</td>\n",
       "      <td>32</td>\n",
       "      <td>A</td>\n",
       "      <td>20170918</td>\n",
       "      <td>298</td>\n",
       "      <td>105332</td>\n",
       "      <td>7.0</td>\n",
       "      <td>NaN</td>\n",
       "      <td>...</td>\n",
       "      <td>1.0</td>\n",
       "      <td>2.0</td>\n",
       "      <td>58.0</td>\n",
       "      <td>39.0</td>\n",
       "      <td>27.0</td>\n",
       "      <td>10.0</td>\n",
       "      <td>10.0</td>\n",
       "      <td>3.0</td>\n",
       "      <td>6.0</td>\n",
       "      <td>9</td>\n",
       "    </tr>\n",
       "    <tr>\n",
       "      <th>2206</th>\n",
       "      <td>2017-0341</td>\n",
       "      <td>Metz</td>\n",
       "      <td>Hard</td>\n",
       "      <td>32</td>\n",
       "      <td>A</td>\n",
       "      <td>20170918</td>\n",
       "      <td>297</td>\n",
       "      <td>104999</td>\n",
       "      <td>5.0</td>\n",
       "      <td>NaN</td>\n",
       "      <td>...</td>\n",
       "      <td>4.0</td>\n",
       "      <td>0.0</td>\n",
       "      <td>75.0</td>\n",
       "      <td>59.0</td>\n",
       "      <td>39.0</td>\n",
       "      <td>10.0</td>\n",
       "      <td>12.0</td>\n",
       "      <td>2.0</td>\n",
       "      <td>5.0</td>\n",
       "      <td>9</td>\n",
       "    </tr>\n",
       "    <tr>\n",
       "      <th>2207</th>\n",
       "      <td>2017-0341</td>\n",
       "      <td>Metz</td>\n",
       "      <td>Hard</td>\n",
       "      <td>32</td>\n",
       "      <td>A</td>\n",
       "      <td>20170918</td>\n",
       "      <td>296</td>\n",
       "      <td>105376</td>\n",
       "      <td>NaN</td>\n",
       "      <td>Q</td>\n",
       "      <td>...</td>\n",
       "      <td>6.0</td>\n",
       "      <td>1.0</td>\n",
       "      <td>48.0</td>\n",
       "      <td>30.0</td>\n",
       "      <td>21.0</td>\n",
       "      <td>5.0</td>\n",
       "      <td>9.0</td>\n",
       "      <td>2.0</td>\n",
       "      <td>6.0</td>\n",
       "      <td>9</td>\n",
       "    </tr>\n",
       "  </tbody>\n",
       "</table>\n",
       "<p>5 rows × 50 columns</p>\n",
       "</div>"
      ],
      "text/plain": [
       "     tourney_id tourney_name surface  draw_size tourney_level tourney_date  \\\n",
       "2203  2017-0341         Metz    Hard         32             A     20170918   \n",
       "2204  2017-0341         Metz    Hard         32             A     20170918   \n",
       "2205  2017-0341         Metz    Hard         32             A     20170918   \n",
       "2206  2017-0341         Metz    Hard         32             A     20170918   \n",
       "2207  2017-0341         Metz    Hard         32             A     20170918   \n",
       "\n",
       "      match_num  winner_id  winner_seed winner_entry      ...      l_ace l_df  \\\n",
       "2203        300     105376          NaN            Q      ...       12.0  8.0   \n",
       "2204        299     105376          NaN            Q      ...        3.0  0.0   \n",
       "2205        298     105332          7.0          NaN      ...        1.0  2.0   \n",
       "2206        297     104999          5.0          NaN      ...        4.0  0.0   \n",
       "2207        296     105376          NaN            Q      ...        6.0  1.0   \n",
       "\n",
       "      l_svpt l_1stIn  l_1stWon  l_2ndWon  l_SvGms  l_bpSaved  l_bpFaced  \\\n",
       "2203    75.0    43.0      34.0       9.0     10.0        3.0        6.0   \n",
       "2204    24.0    15.0       9.0       5.0      5.0        0.0        2.0   \n",
       "2205    58.0    39.0      27.0      10.0     10.0        3.0        6.0   \n",
       "2206    75.0    59.0      39.0      10.0     12.0        2.0        5.0   \n",
       "2207    48.0    30.0      21.0       5.0      9.0        2.0        6.0   \n",
       "\n",
       "     tourney_month  \n",
       "2203             9  \n",
       "2204             9  \n",
       "2205             9  \n",
       "2206             9  \n",
       "2207             9  \n",
       "\n",
       "[5 rows x 50 columns]"
      ]
     },
     "execution_count": 7,
     "metadata": {},
     "output_type": "execute_result"
    }
   ],
   "source": [
    "def wrangle(data): \n",
    "    data = data.dropna(thresh=10)\n",
    "    #data[\"tourney_date\"] = pd.to_datetime(data.tourney_date.astype(\"str\")) # le doy formato de fecha a tourney date\n",
    "    #data[\"tourney_month\"] = data[\"tourney_date\"].dt.month # creo una columna con el mes que figura en tourney date\n",
    "    data[\"tourney_date\"] = data.tourney_date.astype(\"str\") # cambio\n",
    "    data[\"tourney_date\"] = data[\"tourney_date\"].str.split(\".\",expand=True) # cambio\n",
    "    data[\"tourney_month\"] = pd.to_datetime(data[\"tourney_date\"]).dt.month\n",
    "    if month == 0:\n",
    "        filtered = data\n",
    "    else: \n",
    "        filtered = data[data[\"tourney_month\"] == month] # Filtro el dataframe por el mes que me interesa\n",
    "    return filtered\n",
    "    \n",
    "wrangle(data).head()"
   ]
  },
  {
   "cell_type": "code",
   "execution_count": 8,
   "metadata": {},
   "outputs": [],
   "source": [
    "filtered = wrangle(data)\n"
   ]
  },
  {
   "cell_type": "markdown",
   "metadata": {},
   "source": [
    "###  Analyze"
   ]
  },
  {
   "cell_type": "code",
   "execution_count": 9,
   "metadata": {},
   "outputs": [],
   "source": [
    "def analize(filtered):\n",
    "    grouped = filtered[\"winner_name\"].value_counts().head(5) # cantidad de partidos ganados en el mes \n",
    "\n",
    "    \"\"\" media de partidos ganados al mes por jugador\"\"\"\n",
    "    monthly_mean = round(data.groupby(\"winner_name\")[\"winner_name\"].count()/(len(set(data['tourney_date']))),1) \n",
    "    pd_grouped = (pd.DataFrame(grouped)).reset_index(level=0)\n",
    "    pd_grouped = pd_grouped.rename(columns={\"winner_name\":\"winned_matches\",\"index\":\"winner_name\"})\n",
    "    df_mm = pd.DataFrame(monthly_mean)\n",
    "    df_mm.index.names = [\"winner\"]\n",
    "    df_mm = (df_mm.reset_index(level=0))\n",
    "    df_mm = df_mm.rename(columns={\"winner_name\":\"avg_winned_matches_per_month\",\"winner\":\"winner_name\"})\n",
    "    df_merge = pd.merge(pd_grouped,df_mm,on=\"winner_name\")\n",
    "    return df_merge\n",
    "\n",
    "df_merge = analize(filtered)"
   ]
  },
  {
   "cell_type": "code",
   "execution_count": null,
   "metadata": {
    "scrolled": true
   },
   "outputs": [],
   "source": [
    "### visualize "
   ]
  },
  {
   "cell_type": "code",
   "execution_count": 19,
   "metadata": {},
   "outputs": [
    {
     "data": {
      "image/png": "[encoded data removed]",
      "text/plain": [
       "<Figure size 720x360 with 1 Axes>"
      ]
     },
     "metadata": {},
     "output_type": "display_data"
    }
   ],
   "source": [
    "def visualize(df_merge):  \n",
    "    player = df_merge[\"winner_name\"].head(5)\n",
    "    winned_matches = df_merge[\"winned_matches\"].head(5)\n",
    "    avg_winned_matches = df_merge[\"avg_winned_matches_per_month\"].head(10)\n",
    "    sns.set()\n",
    "    \n",
    "    _= fig, ax = plt.subplots(figsize=(10,5))\n",
    "    _ = plt.bar(player,winned_matches)\n",
    "    _ = plt.bar(player,avg_winned_matches)\n",
    "    _ = plt.xlabel(\"name of the player\",fontsize=15)\n",
    "    _= plt.ylabel(\"number of games\",fontsize=15)\n",
    "    _= plt.legend(labels=[\"Winned matches\",\"Avg winned matches per month\"])\n",
    "    _= plt.title(\"Winned matches in the month {}\".format(month) + \"\\n\", fontsize=16)\n",
    "    plt.xticks(fontsize=10)\n",
    "    plt.savefig(title + '.png')\n",
    "    \n",
    "visualize(df_merge)\n"
   ]
  },
  {
   "cell_type": "code",
   "execution_count": null,
   "metadata": {},
   "outputs": [],
   "source": [
    "## save the data "
   ]
  },
  {
   "cell_type": "code",
   "execution_count": null,
   "metadata": {},
   "outputs": [],
   "source": []
  },
  {
   "cell_type": "code",
   "execution_count": null,
   "metadata": {},
   "outputs": [],
   "source": []
  }
 ],
 "metadata": {
  "kernelspec": {
   "display_name": "Python 3",
   "language": "python",
   "name": "python3"
  },
  "language_info": {
   "codemirror_mode": {
    "name": "ipython",
    "version": 3
   },
   "file_extension": ".py",
   "mimetype": "text/x-python",
   "name": "python",
   "nbconvert_exporter": "python",
   "pygments_lexer": "ipython3",
   "version": "3.7.0"
  }
 },
 "nbformat": 4,
 "nbformat_minor": 2
}
