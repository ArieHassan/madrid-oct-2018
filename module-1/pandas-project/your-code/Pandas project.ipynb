{
 "cells": [
  {
   "cell_type": "code",
   "execution_count": 1,
   "metadata": {},
   "outputs": [],
   "source": [
    "import pandas as pd \n",
    "import numpy as np "
   ]
  },
  {
   "cell_type": "code",
   "execution_count": 2,
   "metadata": {},
   "outputs": [],
   "source": [
    "# Importo los archivos que tengo guardados en la misma carpeta \n",
    "tenis_2016 = pd.read_csv(\"tenis_2016.csv\")\n",
    "tenis_2017 = pd.read_csv(\"tenis_2017.csv\")"
   ]
  },
  {
   "cell_type": "code",
   "execution_count": 3,
   "metadata": {},
   "outputs": [
    {
     "data": {
      "text/html": [
       "<div>\n",
       "<style scoped>\n",
       "    .dataframe tbody tr th:only-of-type {\n",
       "        vertical-align: middle;\n",
       "    }\n",
       "\n",
       "    .dataframe tbody tr th {\n",
       "        vertical-align: top;\n",
       "    }\n",
       "\n",
       "    .dataframe thead th {\n",
       "        text-align: right;\n",
       "    }\n",
       "</style>\n",
       "<table border=\"1\" class=\"dataframe\">\n",
       "  <thead>\n",
       "    <tr style=\"text-align: right;\">\n",
       "      <th></th>\n",
       "      <th>tourney_id</th>\n",
       "      <th>tourney_name</th>\n",
       "      <th>surface</th>\n",
       "      <th>draw_size</th>\n",
       "      <th>tourney_level</th>\n",
       "      <th>tourney_date</th>\n",
       "      <th>match_num</th>\n",
       "      <th>winner_id</th>\n",
       "      <th>winner_seed</th>\n",
       "      <th>winner_entry</th>\n",
       "      <th>winner_name</th>\n",
       "      <th>winner_hand</th>\n",
       "      <th>winner_ht</th>\n",
       "      <th>winner_ioc</th>\n",
       "      <th>winner_age</th>\n",
       "    </tr>\n",
       "  </thead>\n",
       "  <tbody>\n",
       "    <tr>\n",
       "      <th>0</th>\n",
       "      <td>2016-M020</td>\n",
       "      <td>Brisbane</td>\n",
       "      <td>Hard</td>\n",
       "      <td>32.0</td>\n",
       "      <td>A</td>\n",
       "      <td>20160104.0</td>\n",
       "      <td>300.0</td>\n",
       "      <td>105683.0</td>\n",
       "      <td>4.0</td>\n",
       "      <td>NaN</td>\n",
       "      <td>Milos Raonic</td>\n",
       "      <td>R</td>\n",
       "      <td>196.0</td>\n",
       "      <td>CAN</td>\n",
       "      <td>25.021218</td>\n",
       "    </tr>\n",
       "    <tr>\n",
       "      <th>1</th>\n",
       "      <td>2016-M020</td>\n",
       "      <td>Brisbane</td>\n",
       "      <td>Hard</td>\n",
       "      <td>32.0</td>\n",
       "      <td>A</td>\n",
       "      <td>20160104.0</td>\n",
       "      <td>299.0</td>\n",
       "      <td>103819.0</td>\n",
       "      <td>1.0</td>\n",
       "      <td>NaN</td>\n",
       "      <td>Roger Federer</td>\n",
       "      <td>R</td>\n",
       "      <td>185.0</td>\n",
       "      <td>SUI</td>\n",
       "      <td>34.406571</td>\n",
       "    </tr>\n",
       "    <tr>\n",
       "      <th>2</th>\n",
       "      <td>2016-M020</td>\n",
       "      <td>Brisbane</td>\n",
       "      <td>Hard</td>\n",
       "      <td>32.0</td>\n",
       "      <td>A</td>\n",
       "      <td>20160104.0</td>\n",
       "      <td>298.0</td>\n",
       "      <td>105683.0</td>\n",
       "      <td>4.0</td>\n",
       "      <td>NaN</td>\n",
       "      <td>Milos Raonic</td>\n",
       "      <td>R</td>\n",
       "      <td>196.0</td>\n",
       "      <td>CAN</td>\n",
       "      <td>25.021218</td>\n",
       "    </tr>\n",
       "    <tr>\n",
       "      <th>3</th>\n",
       "      <td>2016-M020</td>\n",
       "      <td>Brisbane</td>\n",
       "      <td>Hard</td>\n",
       "      <td>32.0</td>\n",
       "      <td>A</td>\n",
       "      <td>20160104.0</td>\n",
       "      <td>297.0</td>\n",
       "      <td>103819.0</td>\n",
       "      <td>1.0</td>\n",
       "      <td>NaN</td>\n",
       "      <td>Roger Federer</td>\n",
       "      <td>R</td>\n",
       "      <td>185.0</td>\n",
       "      <td>SUI</td>\n",
       "      <td>34.406571</td>\n",
       "    </tr>\n",
       "    <tr>\n",
       "      <th>4</th>\n",
       "      <td>2016-M020</td>\n",
       "      <td>Brisbane</td>\n",
       "      <td>Hard</td>\n",
       "      <td>32.0</td>\n",
       "      <td>A</td>\n",
       "      <td>20160104.0</td>\n",
       "      <td>296.0</td>\n",
       "      <td>106233.0</td>\n",
       "      <td>8.0</td>\n",
       "      <td>NaN</td>\n",
       "      <td>Dominic Thiem</td>\n",
       "      <td>R</td>\n",
       "      <td>NaN</td>\n",
       "      <td>AUT</td>\n",
       "      <td>22.335387</td>\n",
       "    </tr>\n",
       "  </tbody>\n",
       "</table>\n",
       "</div>"
      ],
      "text/plain": [
       "  tourney_id tourney_name surface  draw_size tourney_level  tourney_date  \\\n",
       "0  2016-M020     Brisbane    Hard       32.0             A    20160104.0   \n",
       "1  2016-M020     Brisbane    Hard       32.0             A    20160104.0   \n",
       "2  2016-M020     Brisbane    Hard       32.0             A    20160104.0   \n",
       "3  2016-M020     Brisbane    Hard       32.0             A    20160104.0   \n",
       "4  2016-M020     Brisbane    Hard       32.0             A    20160104.0   \n",
       "\n",
       "   match_num  winner_id  winner_seed winner_entry    winner_name winner_hand  \\\n",
       "0      300.0   105683.0          4.0          NaN   Milos Raonic           R   \n",
       "1      299.0   103819.0          1.0          NaN  Roger Federer           R   \n",
       "2      298.0   105683.0          4.0          NaN   Milos Raonic           R   \n",
       "3      297.0   103819.0          1.0          NaN  Roger Federer           R   \n",
       "4      296.0   106233.0          8.0          NaN  Dominic Thiem           R   \n",
       "\n",
       "   winner_ht winner_ioc  winner_age  \n",
       "0      196.0        CAN   25.021218  \n",
       "1      185.0        SUI   34.406571  \n",
       "2      196.0        CAN   25.021218  \n",
       "3      185.0        SUI   34.406571  \n",
       "4        NaN        AUT   22.335387  "
      ]
     },
     "metadata": {},
     "output_type": "display_data"
    },
    {
     "data": {
      "text/plain": [
       "Index(['tourney_id', 'tourney_name', 'surface', 'draw_size', 'tourney_level',\n",
       "       'tourney_date', 'match_num', 'winner_id', 'winner_seed', 'winner_entry',\n",
       "       'winner_name', 'winner_hand', 'winner_ht', 'winner_ioc', 'winner_age'],\n",
       "      dtype='object')"
      ]
     },
     "metadata": {},
     "output_type": "display_data"
    }
   ],
   "source": [
    "# Estos comandos los utilizo para visualizar la tabla por parte y ver todas las columnas y la informacion que contiene\n",
    "vis_1 = tenis_2016.iloc[:,:15].head()\n",
    "vis_2 = tenis_2016.iloc[:,15:30].head()\n",
    "vis_3 = tenis_2016.iloc[:,31:].head()\n",
    "display(vis_1)\n",
    "display(vis_1.columns)"
   ]
  },
  {
   "cell_type": "code",
   "execution_count": 4,
   "metadata": {},
   "outputs": [
    {
     "data": {
      "text/plain": [
       "array([ True,  True,  True,  True,  True,  True,  True,  True,  True,\n",
       "        True,  True,  True,  True,  True,  True,  True,  True,  True,\n",
       "        True,  True,  True,  True,  True,  True,  True,  True,  True,\n",
       "        True,  True,  True,  True,  True,  True,  True,  True,  True,\n",
       "        True,  True,  True,  True,  True,  True,  True,  True,  True,\n",
       "        True,  True,  True,  True])"
      ]
     },
     "execution_count": 4,
     "metadata": {},
     "output_type": "execute_result"
    }
   ],
   "source": [
    "# Compruebo que tengan las mismas columnas antes de unirlas, voy a unir y luego limpio la data\n",
    "tenis_2016.columns == tenis_2017.columns"
   ]
  },
  {
   "cell_type": "code",
   "execution_count": 5,
   "metadata": {},
   "outputs": [],
   "source": [
    "# Uno las dos tablas con un concatenate. \n",
    "df = pd.concat([tenis_2016,tenis_2017])"
   ]
  },
  {
   "cell_type": "code",
   "execution_count": 6,
   "metadata": {},
   "outputs": [],
   "source": [
    "# Creo un nuevo dataframe con menos columnas, descarto algunas que no me interesan antes de empezar a limpiar. \n",
    "df = df[[\"tourney_name\",\"surface\",\"tourney_level\",\"tourney_date\",\"winner_name\",\"winner_seed\",\n",
    "         \"winner_hand\",'winner_ht', 'winner_ioc', 'winner_age','winner_rank', 'winner_rank_points'\n",
    "         ,'loser_name',\"loser_seed\", 'loser_hand', 'loser_ht', 'loser_ioc','loser_age', 'loser_rank', 'loser_rank_points'\n",
    "        , 'score', 'best_of','w_ace','w_bpSaved', 'w_bpFaced', 'l_ace','l_bpSaved',\n",
    "       'l_bpFaced']]"
   ]
  },
  {
   "cell_type": "code",
   "execution_count": 7,
   "metadata": {},
   "outputs": [],
   "source": [
    "\"\"\"elimino las columnass winner_seed y loser_seed por que tienen muchos valores nulos, aparte que no me interesa\n",
    "mucho esa informacion, luego aprovecho y elimino de una vez registros duplicados si existen y tambien aquellos\n",
    "que aparezcan como NAN en mas de 10 columnas\"\"\"\n",
    "\n",
    "#display(df[\"winner_seed\"].isnull().sum())\n",
    "# display(df[\"loser_seed\"].isnull().sum())\n",
    "\n",
    "df = df.drop([\"winner_seed\",\"loser_seed\"],axis=1)\n",
    "df = df.drop_duplicates()\n",
    "df = df.dropna(thresh=10)"
   ]
  },
  {
   "cell_type": "code",
   "execution_count": 8,
   "metadata": {},
   "outputs": [],
   "source": [
    "# Convierto la columna de \"tourney_date\" para que sea tipo date_time para ello hago lo descrito a continuacion\n",
    "df[\"tourney_date\"] = df[\"tourney_date\"].astype(\"str\")  # convierto de tipo float64 a string\n",
    "df[\"tourney_date\"] = df[\"tourney_date\"].str.split(\".\",expand=True)  # quito el \".0\" que hay al final\n",
    "df[\"tourney_date\"] = pd.to_datetime(df[\"tourney_date\"])  #convierto los strings a datetime\n"
   ]
  },
  {
   "cell_type": "code",
   "execution_count": 9,
   "metadata": {},
   "outputs": [
    {
     "data": {
      "text/plain": [
       "' Hay muchos elementos que para cambiarlos de float64 a int64 tengo que hacer el mismo procedimiento, asi que voy\\na crear una funcion que me lo haga para no tener que reescribir el codigo tantas veces '"
      ]
     },
     "execution_count": 9,
     "metadata": {},
     "output_type": "execute_result"
    }
   ],
   "source": [
    "\"\"\" Hay muchos elementos que para cambiarlos de float64 a int64 tengo que hacer el mismo procedimiento, asi que voy\n",
    "a crear una funcion que me lo haga para no tener que reescribir el codigo tantas veces \"\"\""
   ]
  },
  {
   "cell_type": "code",
   "execution_count": 10,
   "metadata": {},
   "outputs": [],
   "source": [
    "def float_a_int(col,func):\n",
    "    df[col] = df[col].fillna(np.floor(func(df[col])))\n",
    "    df[col] = df[col].astype(\"int64\")"
   ]
  },
  {
   "cell_type": "code",
   "execution_count": 11,
   "metadata": {},
   "outputs": [],
   "source": [
    "\"\"\"Convierto la columna \"winner_ht\" a enteros, para ello tengo que primero sustituir los NAN, hay 1421 NAN,\n",
    "lo que representa un 25% de los datos aproximadamente, es mucho como para eliminarlos, asi que los cambiare por\n",
    "la media de la columna.\"\"\"\n",
    "float_a_int(\"winner_ht\",np.mean)"
   ]
  },
  {
   "cell_type": "code",
   "execution_count": 12,
   "metadata": {},
   "outputs": [],
   "source": [
    "\"\"\" En la columna \"winner_age\" hay solamente 8 NAN, los sustituyo por la media  \"\"\"\n",
    "float_a_int(\"winner_age\",np.mean)"
   ]
  },
  {
   "cell_type": "code",
   "execution_count": 13,
   "metadata": {},
   "outputs": [],
   "source": [
    "\"\"\" En la columna \"winner_hand\" hay nada mas 4 datos vacios, los sustituyo por R que es lo mas comun, \n",
    "hago lo mismo para la columna \"loser_hand\" \"\"\"\n",
    "df[\"winner_hand\"] = df[\"winner_hand\"].fillna(\"R\")\n",
    "df[\"loser_hand\"] = df[\"loser_hand\"].fillna(\"R\")"
   ]
  },
  {
   "cell_type": "code",
   "execution_count": 14,
   "metadata": {},
   "outputs": [],
   "source": [
    "\"\"\" Decido sustituir los NAN de la columna \"winner_rank\" por su mediana, no utilizo la funcion que ya defini \n",
    "por que con la mediana no me esta funcionando, me sirve solo con la media\"\"\"\n",
    "sust_median = np.floor(np.median(df[df[\"winner_rank\"].notna()][\"winner_rank\"]))\n",
    "df[\"winner_rank\"] = df[\"winner_rank\"].fillna(sust_median)\n",
    "df[\"winner_rank\"] = df[\"winner_rank\"].astype(\"int64\")"
   ]
  },
  {
   "cell_type": "code",
   "execution_count": 15,
   "metadata": {},
   "outputs": [],
   "source": [
    "\"\"\" Decido sustituir los NAN de la columna \"winner_rank_points\" por su mediana, igual que con \"winner_rank\" \"\"\"\n",
    "sust_median2 = np.floor(np.median(df[df[\"winner_rank_points\"].notna()][\"winner_rank_points\"]))\n",
    "df[\"winner_rank_points\"] = df[\"winner_rank_points\"].fillna(sust_median2)\n",
    "df[\"winner_rank_points\"] = df[\"winner_rank_points\"].astype(\"int64\")"
   ]
  },
  {
   "cell_type": "code",
   "execution_count": 16,
   "metadata": {},
   "outputs": [],
   "source": [
    "\"\"\"para la columna \"loser_ht y loser_age\", relleno los datos y convierto a int64 utilizando mi funcion\"\"\"\n",
    "float_a_int(\"loser_ht\",np.mean)\n",
    "float_a_int(\"loser_age\",np.mean)"
   ]
  },
  {
   "cell_type": "code",
   "execution_count": 17,
   "metadata": {},
   "outputs": [],
   "source": [
    "\"\"\"sustituyo loser_rank y loser_rank_points con sus medianas\"\"\"\n",
    "sust_median3 = np.floor(np.median(df[df[\"loser_rank\"].notna()][\"loser_rank\"]))\n",
    "df[\"loser_rank\"] = df[\"loser_rank\"].fillna(sust_median3)\n",
    "df[\"loser_rank\"] = df[\"loser_rank\"].astype(\"int64\")\n",
    "\n",
    "sust_median4 = np.floor(np.median(df[df[\"loser_rank_points\"].notna()][\"loser_rank_points\"]))\n",
    "df[\"loser_rank_points\"] = df[\"loser_rank_points\"].fillna(sust_median4)\n",
    "df[\"loser_rank_points\"] = df[\"loser_rank_points\"].astype(\"int64\")"
   ]
  },
  {
   "cell_type": "code",
   "execution_count": 18,
   "metadata": {},
   "outputs": [],
   "source": [
    "\"\"\" Transformo a int 64 con mi funcion las siguientes columnas: ['score', 'best_of', 'w_ace', 'w_bpSaved', 'w_bpFaced', \n",
    "'l_ace','l_bpSaved', 'l_bpFaced']\"\"\"\n",
    "float_a_int(\"best_of\",np.mean)\n",
    "float_a_int(\"w_ace\",np.mean)\n",
    "float_a_int(\"w_bpSaved\",np.mean)\n",
    "float_a_int(\"w_bpFaced\",np.mean)\n",
    "float_a_int(\"l_ace\",np.mean)\n",
    "float_a_int(\"l_bpSaved\",np.mean)\n",
    "float_a_int(\"l_bpFaced\",np.mean)"
   ]
  },
  {
   "cell_type": "code",
   "execution_count": 19,
   "metadata": {},
   "outputs": [],
   "source": [
    "\"\"\"Creo bins  para la edad de los ganadores y la edad de los perdedores \"\"\"\n",
    "cutoffs = [0,19,26,32,60]\n",
    "bins = pd.cut(df['winner_age'],cutoffs, labels=[\"muy joven\",\"joven\",\"adulto\",\"viejo\"])\n",
    "bins2 = pd.cut(df['loser_age'],cutoffs, labels=[\"muy joven\",\"joven\",\"adulto\",\"viejo\"])\n",
    "df[\"winner_age_category\"] = bins\n",
    "df[\"loser_age_category\"] = bins2"
   ]
  },
  {
   "cell_type": "code",
   "execution_count": 23,
   "metadata": {},
   "outputs": [],
   "source": [
    "# Agrego la columna \"Year\" para separar los datos del 2016 y los del 2017. Reordeno las columnas. \n",
    "df[\"year\"] = (df[\"tourney_date\"].astype(\"str\")).str.split(\"-\",expand=True)[0]\n",
    "df = df[[\"tourney_name\",\"surface\",\"tourney_level\",\"tourney_date\",\"year\",\"winner_name\",\n",
    "         \"winner_hand\",'winner_ht', 'winner_ioc', 'winner_age',\"winner_age_category\",'winner_rank', 'winner_rank_points'\n",
    "         ,'loser_name', 'loser_hand', 'loser_ht', 'loser_ioc','loser_age',\"loser_age_category\", 'loser_rank', 'loser_rank_points'\n",
    "        , 'score', 'best_of','w_ace','w_bpSaved', 'w_bpFaced', 'l_ace','l_bpSaved',\n",
    "       'l_bpFaced']]"
   ]
  },
  {
   "cell_type": "code",
   "execution_count": 26,
   "metadata": {},
   "outputs": [],
   "source": [
    "data = df.to_csv('tenis_clean.csv', index=False)"
   ]
  },
  {
   "cell_type": "code",
   "execution_count": 21,
   "metadata": {},
   "outputs": [
    {
     "name": "stdout",
     "output_type": "stream",
     "text": [
      "Andy Murray       80\n",
      "Novak Djokovic    66\n",
      "Dominic Thiem     60\n",
      "Name: winner_name, dtype: int64\n",
      "Rafael Nadal        67\n",
      "David Goffin        59\n",
      "Alexander Zverev    55\n",
      "Name: winner_name, dtype: int64\n"
     ]
    }
   ],
   "source": [
    "# ¿Quienes son los 3 jugadores que mas partidos ganaron en el 2016 y en el 2017?,¿ cuantos partidos ganaron? \n",
    "gan_2016 = df[df[\"year\"] == \"2016\"][\"winner_name\"].value_counts().head(3)\n",
    "gan_2017 = df[df[\"year\"] == \"2017\"][\"winner_name\"].value_counts().head(3)\n",
    "print(gan_2016)\n",
    "print(gan_2017)"
   ]
  },
  {
   "cell_type": "code",
   "execution_count": 22,
   "metadata": {},
   "outputs": [
    {
     "name": "stdout",
     "output_type": "stream",
     "text": [
      "name    John Isner\n",
      "suma          2448\n",
      "Name: 0, dtype: object\n"
     ]
    }
   ],
   "source": [
    "# ¿Cual es el jugador que mas aces hizo durante el 2016 y el 2017 juntos?, ¿Cuantos fueron? \n",
    "\"\"\" Me costó bastante trabajo resolver esta pregunta,tuve que preparar la data para poder hacer un \n",
    "merge al final, es un poco largo ya que hay un momento que me devuelve una serie y no un dataframe, cuando transformo la\n",
    "serie en un dataframe me lo devuelve con multi-indice y para poder quitarlo tengo q aplicar la funcion reset.index\"\"\"\n",
    "\n",
    "df_win_aces = pd.DataFrame(df[[\"winner_name\",\"w_ace\"]])\n",
    "df_win_aces2 = df_win_aces.groupby([\"winner_name\"])[\"w_ace\"].sum().sort_values(ascending=False)\n",
    "df_win_aces3 = pd.DataFrame(df_win_aces2).reset_index()\n",
    "df_win_aces4 = df_win_aces3.rename(columns={'winner_name': 'name'})\n",
    "\n",
    "df_lose_aces = pd.DataFrame(df[[\"loser_name\",'l_ace']])\n",
    "df_lose_aces2 = df_lose_aces.groupby([\"loser_name\"])[\"l_ace\"].sum().sort_values(ascending=False)\n",
    "df_lose_aces3 = pd.DataFrame(df_lose_aces2).reset_index()\n",
    "df_lose_aces4 = df_lose_aces3.rename(columns={'loser_name': 'name'})\n",
    "\n",
    "df_aces = pd.merge(df_win_aces4,df_lose_aces4)\n",
    "df_aces[\"suma\"] = df_aces[\"w_ace\"]+df_aces[\"l_ace\"]\n",
    "df_aces_ganador = df_aces.loc[0,[\"name\",\"suma\"]]\n",
    "print(df_aces_ganador)"
   ]
  },
  {
   "cell_type": "code",
   "execution_count": null,
   "metadata": {},
   "outputs": [],
   "source": []
  }
 ],
 "metadata": {
  "kernelspec": {
   "display_name": "Python 3",
   "language": "python",
   "name": "python3"
  },
  "language_info": {
   "codemirror_mode": {
    "name": "ipython",
    "version": 3
   },
   "file_extension": ".py",
   "mimetype": "text/x-python",
   "name": "python",
   "nbconvert_exporter": "python",
   "pygments_lexer": "ipython3",
   "version": "3.7.0"
  }
 },
 "nbformat": 4,
 "nbformat_minor": 2
}
