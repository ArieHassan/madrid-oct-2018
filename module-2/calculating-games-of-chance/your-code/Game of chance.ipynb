{
 "cells": [
  {
   "cell_type": "code",
   "execution_count": 73,
   "metadata": {},
   "outputs": [],
   "source": [
    "from scipy.special import comb\n",
    "from scipy.stats import binom\n",
    "import numpy as np\n",
    "import pandas as pd"
   ]
  },
  {
   "cell_type": "markdown",
   "metadata": {},
   "source": [
    "## Black Jack"
   ]
  },
  {
   "cell_type": "code",
   "execution_count": 17,
   "metadata": {},
   "outputs": [
    {
     "data": {
      "text/plain": [
       "0.05071315372424723"
      ]
     },
     "metadata": {},
     "output_type": "display_data"
    }
   ],
   "source": [
    "# Odds of obtaining Black Jack having 1 deck being the first player. \n",
    "\n",
    "bj = 4*16  # Formas en las que puedes obtener black jack \n",
    "all = comb(52,2) # Possibles ways of getting 2 cards out of 52. \n",
    "res_bj = (bj/all)\n",
    "odds = res_bj/(1-res_bj)\n",
    "display(odds) # Es decir, hay 1:0.05, lo que es igual a 20:1. "
   ]
  },
  {
   "cell_type": "code",
   "execution_count": 21,
   "metadata": {},
   "outputs": [
    {
     "data": {
      "text/plain": [
       "0.07804878048780488"
      ]
     },
     "metadata": {},
     "output_type": "display_data"
    }
   ],
   "source": [
    "# Odds of obtaining the value 17 in Black Jack, having 1 deck and being the first player. \n",
    "\n",
    "obt_17 = 4*16 + 16 + 16 #(4x16 son 10,j,q,k -7) +16(9 y 8) y 16(6 y A)\n",
    "all = comb(52,2)\n",
    "res_17 = (obt_17/all)\n",
    "odds = (res_17/(1-res_17))\n",
    "display(odds) # Las odds son 1:0.078, lo cual equivale casi a 8 de cada 100"
   ]
  },
  {
   "cell_type": "markdown",
   "metadata": {},
   "source": [
    "## Roulette"
   ]
  },
  {
   "cell_type": "code",
   "execution_count": 66,
   "metadata": {},
   "outputs": [
    {
     "data": {
      "text/plain": [
       "'3570.4285714285734: 1'"
      ]
     },
     "metadata": {},
     "output_type": "display_data"
    }
   ],
   "source": [
    "# No veo como puedes aplicar combinatoria para calcular alguna probabilidad con la ruleta, pero usare la dist\n",
    "# binomial para calcular que salga 3 veces el mismo numero en 5 lanzadas\n",
    "n = 5\n",
    "p = (1/37) # Prob de sacar un numero determinado. \n",
    "binomial = binom.rvs(n, p, size=100000)\n",
    "\n",
    "prob = len([e for e in binomial if e==3])/100000\n",
    "prob2 = (np.mean([prob for a in range(100)]))\n",
    "odd = prob2/(1-prob2)\n",
    "display(str(1/odd) + \": 1\")"
   ]
  },
  {
   "cell_type": "markdown",
   "metadata": {},
   "source": [
    "## Crabs "
   ]
  },
  {
   "cell_type": "code",
   "execution_count": 101,
   "metadata": {},
   "outputs": [
    {
     "name": "stdout",
     "output_type": "stream",
     "text": [
      "The probability of getting a sum of 7 are 5.0 : 1\n",
      "The probability of getting a sum of 8 are 6.2 : 1\n",
      "The probability of getting a sum of 6 are 6.2 : 1\n",
      "The probability of getting a sum of 9 are 8.0 : 1\n",
      "The probability of getting a sum of 5 are 8.0 : 1\n",
      "The probability of getting a sum of 10 are 11.0 : 1\n",
      "The probability of getting a sum of 4 are 11.0 : 1\n",
      "The probability of getting a sum of 11 are 17.0 : 1\n",
      "The probability of getting a sum of 3 are 17.0 : 1\n",
      "The probability of getting a sum of 12 are 35.0 : 1\n",
      "The probability of getting a sum of 2 are 35.0 : 1\n"
     ]
    }
   ],
   "source": [
    "# Calculo las odds de sacar las distintas opciones sumas entre dos dados.\n",
    "sumas = [(a+e) for a in range(1,7) for e in range(1,7)]\n",
    "prob = pd.Series(sumas).value_counts()/36\n",
    "odds = prob/(1-prob)\n",
    "diccio = dict(zip(odds.index,odds.values))\n",
    "for i,k in diccio.items():\n",
    "    print(\"The probability of getting a sum of {} are {} : 1\".format(i,1/k))"
   ]
  },
  {
   "cell_type": "code",
   "execution_count": null,
   "metadata": {},
   "outputs": [],
   "source": []
  }
 ],
 "metadata": {
  "kernelspec": {
   "display_name": "Python 3",
   "language": "python",
   "name": "python3"
  },
  "language_info": {
   "codemirror_mode": {
    "name": "ipython",
    "version": 3
   },
   "file_extension": ".py",
   "mimetype": "text/x-python",
   "name": "python",
   "nbconvert_exporter": "python",
   "pygments_lexer": "ipython3",
   "version": "3.7.0"
  }
 },
 "nbformat": 4,
 "nbformat_minor": 2
}
