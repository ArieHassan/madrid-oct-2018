{
 "cells": [
  {
   "cell_type": "markdown",
   "metadata": {},
   "source": [
    "# ## Challenge 1 "
   ]
  },
  {
   "cell_type": "code",
   "execution_count": 3,
   "metadata": {},
   "outputs": [],
   "source": [
    "import requests\n",
    "import pandas as pd\n",
    "from pandas.io.json import json_normalize"
   ]
  },
  {
   "cell_type": "code",
   "execution_count": 36,
   "metadata": {},
   "outputs": [],
   "source": [
    "response = requests.get(\"https://api.github.com/repos/ironhack-datalabs/madrid-oct-2018/forks\")\n",
    "result = response.json()\n"
   ]
  },
  {
   "cell_type": "code",
   "execution_count": 53,
   "metadata": {},
   "outputs": [
    {
     "data": {
      "text/plain": [
       "{'HTML', 'Jupyter Notebook', 'Python'}"
      ]
     },
     "execution_count": 53,
     "metadata": {},
     "output_type": "execute_result"
    }
   ],
   "source": [
    "flattened_data = json_normalize(result)\n",
    "data = pd.DataFrame(flattened_data)\n",
    "languages = set(data[\"language\"])\n",
    "languages"
   ]
  },
  {
   "cell_type": "code",
   "execution_count": null,
   "metadata": {},
   "outputs": [],
   "source": []
  },
  {
   "cell_type": "markdown",
   "metadata": {},
   "source": [
    "# ## Challenge 2 "
   ]
  },
  {
   "cell_type": "code",
   "execution_count": 175,
   "metadata": {},
   "outputs": [],
   "source": [
    "# req = requests.get(api_url_base + recurso + '?' + init_date_url + '&' + end_date_url + '&' + pages).json()\n",
    "# response2 = requests.get(\"https://api.github.com/repos/ironhack-datalabs/madrid-oct-2018/commits?since=2018-10-20T00:00:00Z&until=2018-10-25T23:59:59Z&per_page=100\")"
   ]
  },
  {
   "cell_type": "code",
   "execution_count": 181,
   "metadata": {},
   "outputs": [],
   "source": [
    "url_inic = \"https://api.github.com/repos/ironhack-datalabs/madrid-oct-2018/commits\"\n",
    "response2 = requests.get(url_inic + \"?since=2018-10-20T00:00:00Z&until=2018-10-25T23:59:59Z&per_page=100\")"
   ]
  },
  {
   "cell_type": "code",
   "execution_count": 183,
   "metadata": {},
   "outputs": [
    {
     "data": {
      "text/plain": [
       "0     2018-10-25T17:22:15Z\n",
       "1     2018-10-25T14:40:08Z\n",
       "2     2018-10-25T07:24:29Z\n",
       "3     2018-10-25T04:09:19Z\n",
       "4     2018-10-25T03:35:07Z\n",
       "5     2018-10-25T03:34:44Z\n",
       "6     2018-10-25T01:09:25Z\n",
       "7     2018-10-25T00:52:23Z\n",
       "8     2018-10-25T00:48:50Z\n",
       "9     2018-10-24T01:34:00Z\n",
       "10    2018-10-23T14:18:12Z\n",
       "11    2018-10-23T13:47:46Z\n",
       "12    2018-10-23T13:17:02Z\n",
       "13    2018-10-23T13:06:56Z\n",
       "14    2018-10-22T14:30:40Z\n",
       "15    2018-10-22T03:05:28Z\n",
       "16    2018-10-22T03:03:56Z\n",
       "17    2018-10-22T02:56:58Z\n",
       "18    2018-10-21T07:25:34Z\n",
       "19    2018-10-21T07:17:15Z\n",
       "20    2018-10-21T07:12:27Z\n",
       "21    2018-10-21T07:06:34Z\n",
       "Name: commit.committer.date, dtype: object"
      ]
     },
     "execution_count": 183,
     "metadata": {},
     "output_type": "execute_result"
    }
   ],
   "source": [
    "results2 = response2.json()\n",
    "flattened2 = json_normalize(results2)\n",
    "data2 = pd.DataFrame(flattened2)\n",
    "count = (data2[\"commit.committer.date\"])\n",
    "count"
   ]
  },
  {
   "cell_type": "code",
   "execution_count": 172,
   "metadata": {},
   "outputs": [],
   "source": [
    "\n",
    "\n"
   ]
  },
  {
   "cell_type": "code",
   "execution_count": 149,
   "metadata": {},
   "outputs": [
    {
     "name": "stdout",
     "output_type": "stream",
     "text": [
      "<class 'pandas.core.frame.DataFrame'>\n",
      "RangeIndex: 100 entries, 0 to 99\n",
      "Data columns (total 57 columns):\n",
      "author.avatar_url                100 non-null object\n",
      "author.events_url                100 non-null object\n",
      "author.followers_url             100 non-null object\n",
      "author.following_url             100 non-null object\n",
      "author.gists_url                 100 non-null object\n",
      "author.gravatar_id               100 non-null object\n",
      "author.html_url                  100 non-null object\n",
      "author.id                        100 non-null int64\n",
      "author.login                     100 non-null object\n",
      "author.node_id                   100 non-null object\n",
      "author.organizations_url         100 non-null object\n",
      "author.received_events_url       100 non-null object\n",
      "author.repos_url                 100 non-null object\n",
      "author.site_admin                100 non-null bool\n",
      "author.starred_url               100 non-null object\n",
      "author.subscriptions_url         100 non-null object\n",
      "author.type                      100 non-null object\n",
      "author.url                       100 non-null object\n",
      "comments_url                     100 non-null object\n",
      "commit.author.date               100 non-null object\n",
      "commit.author.email              100 non-null object\n",
      "commit.author.name               100 non-null object\n",
      "commit.comment_count             100 non-null int64\n",
      "commit.committer.date            100 non-null object\n",
      "commit.committer.email           100 non-null object\n",
      "commit.committer.name            100 non-null object\n",
      "commit.message                   100 non-null object\n",
      "commit.tree.sha                  100 non-null object\n",
      "commit.tree.url                  100 non-null object\n",
      "commit.url                       100 non-null object\n",
      "commit.verification.payload      8 non-null object\n",
      "commit.verification.reason       100 non-null object\n",
      "commit.verification.signature    8 non-null object\n",
      "commit.verification.verified     100 non-null bool\n",
      "committer.avatar_url             100 non-null object\n",
      "committer.events_url             100 non-null object\n",
      "committer.followers_url          100 non-null object\n",
      "committer.following_url          100 non-null object\n",
      "committer.gists_url              100 non-null object\n",
      "committer.gravatar_id            100 non-null object\n",
      "committer.html_url               100 non-null object\n",
      "committer.id                     100 non-null int64\n",
      "committer.login                  100 non-null object\n",
      "committer.node_id                100 non-null object\n",
      "committer.organizations_url      100 non-null object\n",
      "committer.received_events_url    100 non-null object\n",
      "committer.repos_url              100 non-null object\n",
      "committer.site_admin             100 non-null bool\n",
      "committer.starred_url            100 non-null object\n",
      "committer.subscriptions_url      100 non-null object\n",
      "committer.type                   100 non-null object\n",
      "committer.url                    100 non-null object\n",
      "html_url                         100 non-null object\n",
      "node_id                          100 non-null object\n",
      "parents                          100 non-null object\n",
      "sha                              100 non-null object\n",
      "url                              100 non-null object\n",
      "dtypes: bool(3), int64(3), object(51)\n",
      "memory usage: 42.6+ KB\n"
     ]
    }
   ],
   "source": []
  },
  {
   "cell_type": "code",
   "execution_count": 184,
   "metadata": {},
   "outputs": [
    {
     "name": "stdout",
     "output_type": "stream",
     "text": [
      "22\n"
     ]
    }
   ],
   "source": [
    "url_inic = \"https://api.github.com/repos/ironhack-datalabs/madrid-oct-2018/commits\"\n",
    "response2 = requests.get(url_inic + \"?since=2018-10-20T00:00:00Z&until=2018-10-25T23:59:59Z&per_page=100\")\n",
    "results2 = response2.json()\n",
    "flattened2 = json_normalize(results2)\n",
    "data2 = pd.DataFrame(flattened2)\n",
    "count = (data2[\"commit.committer.date\"]).count()\n",
    "print(count)"
   ]
  },
  {
   "cell_type": "code",
   "execution_count": null,
   "metadata": {},
   "outputs": [],
   "source": []
  }
 ],
 "metadata": {
  "kernelspec": {
   "display_name": "Python 3",
   "language": "python",
   "name": "python3"
  },
  "language_info": {
   "codemirror_mode": {
    "name": "ipython",
    "version": 3
   },
   "file_extension": ".py",
   "mimetype": "text/x-python",
   "name": "python",
   "nbconvert_exporter": "python",
   "pygments_lexer": "ipython3",
   "version": "3.7.0"
  }
 },
 "nbformat": 4,
 "nbformat_minor": 2
}
