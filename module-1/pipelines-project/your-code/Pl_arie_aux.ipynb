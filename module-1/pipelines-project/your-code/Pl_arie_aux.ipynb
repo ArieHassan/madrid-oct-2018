{
 "cells": [
  {
   "cell_type": "code",
   "execution_count": null,
   "metadata": {},
   "outputs": [],
   "source": [
    "import pandas as pd\n",
    "import matplotlib.pyplot as plt\n",
    "import seaborn as sns"
   ]
  },
  {
   "cell_type": "code",
   "execution_count": 5,
   "metadata": {
    "scrolled": true
   },
   "outputs": [
    {
     "name": "stdout",
     "output_type": "stream",
     "text": [
      "Enter the year: 2014\n",
      "Oops!  That was no valid number.  Try again...\n",
      "Enter the year: 2015\n",
      "Oops!  That was no valid number.  Try again...\n",
      "Enter the year: 2019\n",
      "Oops!  That was no valid number.  Try again...\n",
      "Enter the year: 2017\n",
      "Enter the month from january till september (1-11) if you dont want to filter by month insert, 0: 20\n",
      "Oops!  That was no valid number.  Try again...\n",
      "Enter the month from january till september (1-11) if you dont want to filter by month insert, 0: 12\n",
      "Oops!  That was no valid number.  Try again...\n",
      "Enter the month from january till september (1-11) if you dont want to filter by month insert, 0: 10\n"
     ]
    }
   ],
   "source": [
    "year_l = [2016,2017]\n",
    "months = [1,2,3,4,5,6,7,8,9,10,11]\n",
    "\n",
    "while True:\n",
    "    try:\n",
    "        year = int(input('Enter the year: '))\n",
    "\n",
    "    except:\n",
    "        print(\"Oops!  That was no valid number.  Try again...\")\n",
    "\n",
    "    else: \n",
    "        if year in year_l:\n",
    "            break\n",
    "        else: \n",
    "            print(\"Oops!  That was no valid number.  Try again...\")\n",
    "\n",
    "while True:\n",
    "    try:\n",
    "        month = int(input(\"Enter the month from january till september (1-11) if you dont want to filter by month insert, 0: \"))\n",
    "\n",
    "    except:\n",
    "        print(\"Oops!  That was no valid number.  Try again...\")\n",
    "\n",
    "    else: \n",
    "        if month in months:\n",
    "            break\n",
    "        else: \n",
    "            print(\"Oops!  That was no valid number.  Try again...\")\n",
    "            \n",
    "title = \"Winned matches in the {}th month of the year number {}\".format(month,year)\n"
   ]
  },
  {
   "cell_type": "code",
   "execution_count": 6,
   "metadata": {},
   "outputs": [
    {
     "data": {
      "text/plain": [
       "2017"
      ]
     },
     "metadata": {},
     "output_type": "display_data"
    },
    {
     "data": {
      "text/plain": [
       "10"
      ]
     },
     "metadata": {},
     "output_type": "display_data"
    },
    {
     "data": {
      "text/plain": [
       "'Winned matches in the 10th month of the year number 2017'"
      ]
     },
     "metadata": {},
     "output_type": "display_data"
    }
   ],
   "source": [
    "# year = int(input('Enter the year: '))\n",
    "# month = int(input('Enter the month from january till september (1-11) if you dont want to filter by month insert, 0: ')) \n",
    "# title = \"Winned matches in the {}th month of the year number {}\".format(month,year)\n",
    "display(year,month,title)"
   ]
  },
  {
   "cell_type": "markdown",
   "metadata": {},
   "source": [
    "### Acquisition"
   ]
  },
  {
   "cell_type": "code",
   "execution_count": null,
   "metadata": {},
   "outputs": [],
   "source": [
    "def acquire():\n",
    "    file = \"./data/tenis_{}.csv\".format(year)\n",
    "    df = pd.read_csv(file)\n",
    "    return df "
   ]
  },
  {
   "cell_type": "code",
   "execution_count": null,
   "metadata": {},
   "outputs": [],
   "source": [
    "data = acquire()\n"
   ]
  },
  {
   "cell_type": "code",
   "execution_count": null,
   "metadata": {},
   "outputs": [],
   "source": [
    "data[\"tourney_date\"] = data.tourney_date.astype(\"str\") # cambio\n",
    "data[\"tourney_date\"] = data[\"tourney_date\"].str.split(\".\",expand=True) # cambio\n",
    "data[\"tourney_date\"].head()\n",
    "\n",
    "data[\"tourney_month\"] = pd.to_datetime(data[\"tourney_date\"]).dt.month\n",
    "filtered = data[data[\"tourney_month\"] == month] # Filtro el dataframe por el mes que me interesa\n",
    "filtered.head()"
   ]
  },
  {
   "cell_type": "markdown",
   "metadata": {},
   "source": [
    "### Wrangling"
   ]
  },
  {
   "cell_type": "code",
   "execution_count": null,
   "metadata": {
    "scrolled": true
   },
   "outputs": [],
   "source": [
    "def wrangle(data): \n",
    "    data = data.dropna(thresh=10)\n",
    "    #data[\"tourney_date\"] = pd.to_datetime(data.tourney_date.astype(\"str\")) # le doy formato de fecha a tourney date\n",
    "    #data[\"tourney_month\"] = data[\"tourney_date\"].dt.month # creo una columna con el mes que figura en tourney date\n",
    "    data[\"tourney_date\"] = data.tourney_date.astype(\"str\") # cambio\n",
    "    data[\"tourney_date\"] = data[\"tourney_date\"].str.split(\".\",expand=True) # cambio\n",
    "    data[\"tourney_month\"] = pd.to_datetime(data[\"tourney_date\"]).dt.month\n",
    "    if month == 0:\n",
    "        filtered = data\n",
    "    else: \n",
    "        filtered = data[data[\"tourney_month\"] == month] # Filtro el dataframe por el mes que me interesa\n",
    "    return filtered\n",
    "    \n",
    "wrangle(data).head()"
   ]
  },
  {
   "cell_type": "code",
   "execution_count": null,
   "metadata": {},
   "outputs": [],
   "source": [
    "filtered = wrangle(data)\n"
   ]
  },
  {
   "cell_type": "markdown",
   "metadata": {},
   "source": [
    "###  Analyze"
   ]
  },
  {
   "cell_type": "code",
   "execution_count": null,
   "metadata": {},
   "outputs": [],
   "source": [
    "def analize(filtered):\n",
    "    grouped = filtered[\"winner_name\"].value_counts().head(5) # cantidad de partidos ganados en el mes \n",
    "\n",
    "    \"\"\" media de partidos ganados al mes por jugador\"\"\"\n",
    "    monthly_mean = round(data.groupby(\"winner_name\")[\"winner_name\"].count()/(len(set(data['tourney_date']))),1) \n",
    "    pd_grouped = (pd.DataFrame(grouped)).reset_index(level=0)\n",
    "    pd_grouped = pd_grouped.rename(columns={\"winner_name\":\"winned_matches\",\"index\":\"winner_name\"})\n",
    "    df_mm = pd.DataFrame(monthly_mean)\n",
    "    df_mm.index.names = [\"winner\"]\n",
    "    df_mm = (df_mm.reset_index(level=0))\n",
    "    df_mm = df_mm.rename(columns={\"winner_name\":\"avg_winned_matches_per_month\",\"winner\":\"winner_name\"})\n",
    "    df_merge = pd.merge(pd_grouped,df_mm,on=\"winner_name\")\n",
    "    return df_merge\n",
    "\n",
    "df_merge = analize(filtered)"
   ]
  },
  {
   "cell_type": "code",
   "execution_count": null,
   "metadata": {
    "scrolled": true
   },
   "outputs": [],
   "source": [
    "### visualize "
   ]
  },
  {
   "cell_type": "code",
   "execution_count": null,
   "metadata": {},
   "outputs": [],
   "source": [
    "def visualize(df_merge):  \n",
    "    player = df_merge[\"winner_name\"].head(5)\n",
    "    winned_matches = df_merge[\"winned_matches\"].head(5)\n",
    "    avg_winned_matches = df_merge[\"avg_winned_matches_per_month\"].head(10)\n",
    "    sns.set()\n",
    "    \n",
    "    _= fig, ax = plt.subplots(figsize=(10,5))\n",
    "    _ = plt.bar(player,winned_matches)\n",
    "    _ = plt.bar(player,avg_winned_matches)\n",
    "    _ = plt.xlabel(\"name of the player\",fontsize=15)\n",
    "    _= plt.ylabel(\"number of games\",fontsize=15)\n",
    "    _= plt.legend(labels=[\"Winned matches\",\"Avg winned matches per month\"])\n",
    "    _= plt.title(\"Winned matches in the month {}\".format(month) + \"\\n\", fontsize=16)\n",
    "    plt.xticks(fontsize=10)\n",
    "    plt.savefig(title + '.png')\n",
    "    \n",
    "visualize(df_merge)\n"
   ]
  },
  {
   "cell_type": "code",
   "execution_count": null,
   "metadata": {},
   "outputs": [],
   "source": [
    "## save the data "
   ]
  },
  {
   "cell_type": "code",
   "execution_count": null,
   "metadata": {},
   "outputs": [],
   "source": []
  },
  {
   "cell_type": "code",
   "execution_count": null,
   "metadata": {},
   "outputs": [],
   "source": []
  }
 ],
 "metadata": {
  "kernelspec": {
   "display_name": "Python 3",
   "language": "python",
   "name": "python3"
  }
 },
 "nbformat": 4,
 "nbformat_minor": 2
}
