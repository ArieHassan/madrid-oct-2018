{
 "cells": [
  {
   "cell_type": "code",
   "execution_count": 17,
   "metadata": {},
   "outputs": [],
   "source": [
    "import json\n",
    "import requests\n",
    "import pandas as pd\n",
    "from bs4 import BeautifulSoup\n",
    "import re \n"
   ]
  },
  {
   "cell_type": "code",
   "execution_count": 186,
   "metadata": {},
   "outputs": [],
   "source": [
    "# Me conecto con el ecb para pedir las tasas de cambio con respecto al euro\n",
    "url = (\"https://www.ecb.europa.eu/stats/policy_and_exchange_rates/euro_reference_exchange_rates/html/index.en.html\")\n",
    "html = requests.get(url).content\n",
    "result = BeautifulSoup(html,\"lxml\")"
   ]
  },
  {
   "cell_type": "code",
   "execution_count": 205,
   "metadata": {},
   "outputs": [
    {
     "data": {
      "text/html": [
       "<div>\n",
       "<style scoped>\n",
       "    .dataframe tbody tr th:only-of-type {\n",
       "        vertical-align: middle;\n",
       "    }\n",
       "\n",
       "    .dataframe tbody tr th {\n",
       "        vertical-align: top;\n",
       "    }\n",
       "\n",
       "    .dataframe thead th {\n",
       "        text-align: right;\n",
       "    }\n",
       "</style>\n",
       "<table border=\"1\" class=\"dataframe\">\n",
       "  <thead>\n",
       "    <tr style=\"text-align: right;\">\n",
       "      <th></th>\n",
       "      <th>Country</th>\n",
       "      <th>Currency</th>\n",
       "      <th>Spot</th>\n",
       "    </tr>\n",
       "  </thead>\n",
       "  <tbody>\n",
       "    <tr>\n",
       "      <th>0</th>\n",
       "      <td>EUR</td>\n",
       "      <td>Euro</td>\n",
       "      <td>1</td>\n",
       "    </tr>\n",
       "    <tr>\n",
       "      <th>1</th>\n",
       "      <td>USD</td>\n",
       "      <td>US dollar</td>\n",
       "      <td>1.1417</td>\n",
       "    </tr>\n",
       "    <tr>\n",
       "      <th>2</th>\n",
       "      <td>JPY</td>\n",
       "      <td>Japanese yen</td>\n",
       "      <td>128.89</td>\n",
       "    </tr>\n",
       "  </tbody>\n",
       "</table>\n",
       "</div>"
      ],
      "text/plain": [
       "  Country      Currency    Spot\n",
       "0     EUR          Euro       1\n",
       "1     USD     US dollar  1.1417\n",
       "2     JPY  Japanese yen  128.89"
      ]
     },
     "metadata": {},
     "output_type": "display_data"
    }
   ],
   "source": [
    "## obtengo las tasas de cambio y genero un DataFrame para inspeccionar que estén bien. \n",
    "country_ = result.select(\".currency\")\n",
    "country = [ctry.text for ctry in country_]\n",
    "country.insert(0,\"EUR\")\n",
    "currency_ = result.select(\".alignLeft\")\n",
    "currency = [curr.text for curr in currency_]\n",
    "currency.insert(0,\"Euro\")\n",
    "spot_ = result.select(\".rate\")\n",
    "spot = [sp.text for sp in spot_]\n",
    "spot.insert(0,1)\n",
    "dictionary = {\"Country\":country,\"Currency\":currency,\"Spot\":spot}\n",
    "df = pd.DataFrame(dictionary)\n",
    "display(df.head(3))"
   ]
  },
  {
   "cell_type": "code",
   "execution_count": 150,
   "metadata": {},
   "outputs": [],
   "source": [
    "# Me conecto con ebay para ver los productos de la seccion de \"Deals\"\n",
    "url_2 = (\"https://www.ebay.es/deals\")\n",
    "html_2 = requests.get(url_2).content\n",
    "result = BeautifulSoup(html_2,\"lxml\")"
   ]
  },
  {
   "cell_type": "code",
   "execution_count": 151,
   "metadata": {},
   "outputs": [],
   "source": [
    "# Descargo los nombres de los productos con sus respectivos precios. \n",
    "titulos_ = result.select(\".ebayui-ellipsis-2\")\n",
    "titulos = [titul.text for titul in titulos_]\n",
    "precios_ = result.select(\".first\")\n",
    "precios = [prec.text for prec in precios_[1:]]"
   ]
  },
  {
   "cell_type": "code",
   "execution_count": 204,
   "metadata": {
    "scrolled": false
   },
   "outputs": [
    {
     "data": {
      "text/html": [
       "<div>\n",
       "<style scoped>\n",
       "    .dataframe tbody tr th:only-of-type {\n",
       "        vertical-align: middle;\n",
       "    }\n",
       "\n",
       "    .dataframe tbody tr th {\n",
       "        vertical-align: top;\n",
       "    }\n",
       "\n",
       "    .dataframe thead th {\n",
       "        text-align: right;\n",
       "    }\n",
       "</style>\n",
       "<table border=\"1\" class=\"dataframe\">\n",
       "  <thead>\n",
       "    <tr style=\"text-align: right;\">\n",
       "      <th></th>\n",
       "      <th>Titulos</th>\n",
       "      <th>Precios</th>\n",
       "    </tr>\n",
       "  </thead>\n",
       "  <tbody>\n",
       "    <tr>\n",
       "      <th>0</th>\n",
       "      <td>Patinete eléctrico Mi Xiaomi M365 Scooter negr...</td>\n",
       "      <td>349,00 EUR</td>\n",
       "    </tr>\n",
       "    <tr>\n",
       "      <th>1</th>\n",
       "      <td>TV 49\" LG 49UK6200 UHD 4K Smart TV</td>\n",
       "      <td>399,99 EUR</td>\n",
       "    </tr>\n",
       "    <tr>\n",
       "      <th>2</th>\n",
       "      <td>Radiador Calefactor Calentador Convector Eléct...</td>\n",
       "      <td>89,99 EUR</td>\n",
       "    </tr>\n",
       "    <tr>\n",
       "      <th>3</th>\n",
       "      <td>NUEVO Samsung Galaxy Note 9 (SM-N960F/DS) 6.4\"...</td>\n",
       "      <td>659,99 EUR</td>\n",
       "    </tr>\n",
       "    <tr>\n",
       "      <th>4</th>\n",
       "      <td>Jack&amp;Jones Hombre Sudadera Invierno Chaqueta 2...</td>\n",
       "      <td>19,99 EUR</td>\n",
       "    </tr>\n",
       "  </tbody>\n",
       "</table>\n",
       "</div>"
      ],
      "text/plain": [
       "                                             Titulos     Precios\n",
       "0  Patinete eléctrico Mi Xiaomi M365 Scooter negr...  349,00 EUR\n",
       "1                 TV 49\" LG 49UK6200 UHD 4K Smart TV  399,99 EUR\n",
       "2  Radiador Calefactor Calentador Convector Eléct...   89,99 EUR\n",
       "3  NUEVO Samsung Galaxy Note 9 (SM-N960F/DS) 6.4\"...  659,99 EUR\n",
       "4  Jack&Jones Hombre Sudadera Invierno Chaqueta 2...   19,99 EUR"
      ]
     },
     "metadata": {},
     "output_type": "display_data"
    }
   ],
   "source": [
    "# Construyo el DataFrame de la seccion \"Deals\" en Ebay para inspeccionar que este bien.   \n",
    "d = dict(zip(titulos,precios))\n",
    "pr = pd.Series(d, name=\"Precios\")\n",
    "pr.index.name = \"Titulos\"\n",
    "pr2 = pr.reset_index()\n",
    "df_e = pr2\n",
    "display(df_e.head(5))"
   ]
  },
  {
   "cell_type": "code",
   "execution_count": 200,
   "metadata": {},
   "outputs": [],
   "source": [
    "# Me propongo sacar el precio de cada producto en algunas de las monedas que me traje del ecb\n",
    "\n",
    "# Filtro la tabla de las currencys para que solo quedarme con las que me interesan (spot)\n",
    "lista = [\"EUR\", \"USD\",\"JPY\",\"GBP\",\"AUD\",\"CAD\",\"CHF\"]\n",
    "df_cur = df[df[\"Country\"].isin(lista)][[\"Currency\",\"Spot\"]]\n",
    "spot = df_cur[\"Spot\"]\n",
    "\n",
    "# Creo un diccionario donde la key sea la currency y el valor sea la respectiva tasa de cambio \n",
    "cur_spot = dict(zip(df_cur[\"Currency\"],df_cur[\"Spot\"]))\n"
   ]
  },
  {
   "cell_type": "code",
   "execution_count": 201,
   "metadata": {},
   "outputs": [],
   "source": [
    "# Convierto los precios en floats, para poder eventualmente multiplicarlo por la tasa de cambio. \n",
    "_ = [re.findall(\"[^A-Z.]\",precio)for precio in precios]\n",
    "_ = [(\"\".join(prec)) for prec in _]\n",
    "price_list = [float(prec_f.replace(\",\",\".\"))  for prec_f in _]"
   ]
  },
  {
   "cell_type": "code",
   "execution_count": 211,
   "metadata": {},
   "outputs": [
    {
     "data": {
      "text/html": [
       "<div>\n",
       "<style scoped>\n",
       "    .dataframe tbody tr th:only-of-type {\n",
       "        vertical-align: middle;\n",
       "    }\n",
       "\n",
       "    .dataframe tbody tr th {\n",
       "        vertical-align: top;\n",
       "    }\n",
       "\n",
       "    .dataframe thead th {\n",
       "        text-align: right;\n",
       "    }\n",
       "</style>\n",
       "<table border=\"1\" class=\"dataframe\">\n",
       "  <thead>\n",
       "    <tr style=\"text-align: right;\">\n",
       "      <th></th>\n",
       "      <th>Products</th>\n",
       "      <th>Australian dollar</th>\n",
       "      <th>Canadian dollar</th>\n",
       "      <th>Euro</th>\n",
       "      <th>Japanese yen</th>\n",
       "      <th>Pound sterling</th>\n",
       "      <th>Swiss franc</th>\n",
       "      <th>US dollar</th>\n",
       "    </tr>\n",
       "  </thead>\n",
       "  <tbody>\n",
       "    <tr>\n",
       "      <th>0</th>\n",
       "      <td>Patinete eléctrico Mi Xiaomi M365 Scooter negr...</td>\n",
       "      <td>552.81600</td>\n",
       "      <td>521.964400</td>\n",
       "      <td>349.00</td>\n",
       "      <td>44982.6100</td>\n",
       "      <td>306.666300</td>\n",
       "      <td>398.627800</td>\n",
       "      <td>398.453300</td>\n",
       "    </tr>\n",
       "    <tr>\n",
       "      <th>1</th>\n",
       "      <td>TV 49\" LG 49UK6200 UHD 4K Smart TV</td>\n",
       "      <td>633.58416</td>\n",
       "      <td>598.225044</td>\n",
       "      <td>399.99</td>\n",
       "      <td>51554.7111</td>\n",
       "      <td>351.471213</td>\n",
       "      <td>456.868578</td>\n",
       "      <td>456.668583</td>\n",
       "    </tr>\n",
       "    <tr>\n",
       "      <th>2</th>\n",
       "      <td>Radiador Calefactor Calentador Convector Eléct...</td>\n",
       "      <td>142.54416</td>\n",
       "      <td>134.589044</td>\n",
       "      <td>89.99</td>\n",
       "      <td>11598.8111</td>\n",
       "      <td>79.074213</td>\n",
       "      <td>102.786578</td>\n",
       "      <td>102.741583</td>\n",
       "    </tr>\n",
       "    <tr>\n",
       "      <th>3</th>\n",
       "      <td>NUEVO Samsung Galaxy Note 9 (SM-N960F/DS) 6.4\"...</td>\n",
       "      <td>1045.42416</td>\n",
       "      <td>987.081044</td>\n",
       "      <td>659.99</td>\n",
       "      <td>85066.1111</td>\n",
       "      <td>579.933213</td>\n",
       "      <td>753.840578</td>\n",
       "      <td>753.510583</td>\n",
       "    </tr>\n",
       "    <tr>\n",
       "      <th>4</th>\n",
       "      <td>Jack&amp;Jones Hombre Sudadera Invierno Chaqueta 2...</td>\n",
       "      <td>31.66416</td>\n",
       "      <td>29.897044</td>\n",
       "      <td>19.99</td>\n",
       "      <td>2576.5111</td>\n",
       "      <td>17.565213</td>\n",
       "      <td>22.832578</td>\n",
       "      <td>22.822583</td>\n",
       "    </tr>\n",
       "  </tbody>\n",
       "</table>\n",
       "</div>"
      ],
      "text/plain": [
       "                                            Products  Australian dollar  \\\n",
       "0  Patinete eléctrico Mi Xiaomi M365 Scooter negr...          552.81600   \n",
       "1                 TV 49\" LG 49UK6200 UHD 4K Smart TV          633.58416   \n",
       "2  Radiador Calefactor Calentador Convector Eléct...          142.54416   \n",
       "3  NUEVO Samsung Galaxy Note 9 (SM-N960F/DS) 6.4\"...         1045.42416   \n",
       "4  Jack&Jones Hombre Sudadera Invierno Chaqueta 2...           31.66416   \n",
       "\n",
       "   Canadian dollar    Euro  Japanese yen  Pound sterling  Swiss franc  \\\n",
       "0       521.964400  349.00    44982.6100      306.666300   398.627800   \n",
       "1       598.225044  399.99    51554.7111      351.471213   456.868578   \n",
       "2       134.589044   89.99    11598.8111       79.074213   102.786578   \n",
       "3       987.081044  659.99    85066.1111      579.933213   753.840578   \n",
       "4        29.897044   19.99     2576.5111       17.565213    22.832578   \n",
       "\n",
       "    US dollar  \n",
       "0  398.453300  \n",
       "1  456.668583  \n",
       "2  102.741583  \n",
       "3  753.510583  \n",
       "4   22.822583  "
      ]
     },
     "metadata": {},
     "output_type": "display_data"
    }
   ],
   "source": [
    "# Itero sobre el precio de cada producto para calcular su precio en las distinas monedas.\n",
    "lista = []\n",
    "for precio in price_list:\n",
    "    diccionario = {}\n",
    "    for currency,spot in cur_spot.items():\n",
    "        diccionario[currency] = precio*float(spot)\n",
    "    lista.append(diccionario)\n",
    "\n",
    "# Creo un diccionario con el titulo del producto y sus respectivos precios en cada moneda y luego genero el DF. \n",
    "tit_precios = dict(zip(titulos,lista))\n",
    "final = pd.DataFrame(tit_precios).transpose().reset_index()\n",
    "final = final.rename(columns={\"index\":\"Products\"})\n",
    "display(final.head(5))"
   ]
  },
  {
   "cell_type": "code",
   "execution_count": 212,
   "metadata": {},
   "outputs": [],
   "source": [
    "data = final.to_csv(\"Output/product_prices.csv\",index=False)\n"
   ]
  },
  {
   "cell_type": "code",
   "execution_count": null,
   "metadata": {},
   "outputs": [],
   "source": []
  }
 ],
 "metadata": {
  "kernelspec": {
   "display_name": "Python 3",
   "language": "python",
   "name": "python3"
  },
  "language_info": {
   "codemirror_mode": {
    "name": "ipython",
    "version": 3
   },
   "file_extension": ".py",
   "mimetype": "text/x-python",
   "name": "python",
   "nbconvert_exporter": "python",
   "pygments_lexer": "ipython3",
   "version": "3.7.0"
  }
 },
 "nbformat": 4,
 "nbformat_minor": 2
}
