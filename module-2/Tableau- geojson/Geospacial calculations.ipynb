{
 "cells": [
  {
   "cell_type": "code",
   "execution_count": 15,
   "metadata": {},
   "outputs": [],
   "source": [
    "from pymongo import MongoClient\n",
    "import pandas as pd\n",
    "from pandas.io.json import json_normalize\n",
    "from geojson import Point\n",
    "client = MongoClient().Test\n",
    "db = client.Cleaned_companies"
   ]
  },
  {
   "cell_type": "code",
   "execution_count": 16,
   "metadata": {},
   "outputs": [],
   "source": [
    "def geoQueryNear(lat, lng, distance=10000):\n",
    "    return {\n",
    "        \"location\": {\n",
    "            \"$near\": { \n",
    "                \"$geometry\": {\n",
    "                        \"type\": \"Point\", \n",
    "                        \"coordinates\": [lng,lat]},\n",
    "                    \"$maxDistance\":distance,\n",
    "                },\n",
    "            }\n",
    "        }"
   ]
  },
  {
   "cell_type": "code",
   "execution_count": 18,
   "metadata": {},
   "outputs": [],
   "source": [
    "doc = db.find(projection={\"_id\":0})\n",
    "df = json_normalize(list(doc))\n",
    "df = df.drop(\"location.type\",axis=1)\n",
    "df[\"long\"] = [a[0] for a in df[\"location.coordinates\"]]\n",
    "df[\"lat\"] = [a[1] for a in df[\"location.coordinates\"]]"
   ]
  },
  {
   "cell_type": "code",
   "execution_count": 19,
   "metadata": {},
   "outputs": [],
   "source": [
    "dfq = df[[\"lat\",\"long\"]]\n",
    "def cercania (x,y,radio):\n",
    "    return list(db.find(geoQueryNear(x,y,radio),projection={\"name\":1,\"number_of_employees\":1,\"_id\":0}))"
   ]
  },
  {
   "cell_type": "code",
   "execution_count": 20,
   "metadata": {},
   "outputs": [],
   "source": [
    "def query_final(radio):\n",
    "    busqueda = dfq.apply(lambda x: cercania(x[0],x[1],radio),axis=1)\n",
    "    vaciatotal = []\n",
    "    for fila in busqueda[:]:\n",
    "        vacia = []\n",
    "        for elemento in fila:   \n",
    "            vacia.append(elemento[\"number_of_employees\"])\n",
    "        vaciatotal.append(sum(vacia))\n",
    "    df[\"Near_Emp\"] = vaciatotal\n",
    "    df3 = df.sort_values(by=\"Near_Emp\",ascending=False).head(10)\n",
    "    return df3"
   ]
  },
  {
   "cell_type": "code",
   "execution_count": 24,
   "metadata": {},
   "outputs": [],
   "source": [
    "# Radio 100 mts\n",
    "radio_100 = query_final(100)\n",
    "data = radio_100.to_csv('radio100.csv', index=False)"
   ]
  },
  {
   "cell_type": "code",
   "execution_count": 26,
   "metadata": {},
   "outputs": [],
   "source": [
    "# radio 1.000 mts\n",
    "radio_1000 = query_final(1000)\n",
    "data = radio_1000.to_csv('radio_1000.csv', index=False)"
   ]
  },
  {
   "cell_type": "code",
   "execution_count": 28,
   "metadata": {},
   "outputs": [],
   "source": [
    "# radio 10.000 mts\n",
    "radio_10k=query_final(10000)\n",
    "data = radio_10k.to_csv('radio10k.csv', index=False)"
   ]
  },
  {
   "cell_type": "code",
   "execution_count": 27,
   "metadata": {},
   "outputs": [
    {
     "data": {
      "text/html": [
       "<div>\n",
       "<style scoped>\n",
       "    .dataframe tbody tr th:only-of-type {\n",
       "        vertical-align: middle;\n",
       "    }\n",
       "\n",
       "    .dataframe tbody tr th {\n",
       "        vertical-align: top;\n",
       "    }\n",
       "\n",
       "    .dataframe thead th {\n",
       "        text-align: right;\n",
       "    }\n",
       "</style>\n",
       "<table border=\"1\" class=\"dataframe\">\n",
       "  <thead>\n",
       "    <tr style=\"text-align: right;\">\n",
       "      <th></th>\n",
       "      <th>location.coordinates</th>\n",
       "      <th>name</th>\n",
       "      <th>number_of_employees</th>\n",
       "      <th>long</th>\n",
       "      <th>lat</th>\n",
       "      <th>Near_Emp</th>\n",
       "    </tr>\n",
       "  </thead>\n",
       "  <tbody>\n",
       "    <tr>\n",
       "      <th>777</th>\n",
       "      <td>[-73.723999, 41.109534]</td>\n",
       "      <td>IBM</td>\n",
       "      <td>388000</td>\n",
       "      <td>-73.723999</td>\n",
       "      <td>41.109534</td>\n",
       "      <td>388000</td>\n",
       "    </tr>\n",
       "    <tr>\n",
       "      <th>2608</th>\n",
       "      <td>[-121.934573, 37.293687]</td>\n",
       "      <td>Telera</td>\n",
       "      <td>100</td>\n",
       "      <td>-121.934573</td>\n",
       "      <td>37.293687</td>\n",
       "      <td>315570</td>\n",
       "    </tr>\n",
       "    <tr>\n",
       "      <th>133</th>\n",
       "      <td>[-121.935688, 37.288974]</td>\n",
       "      <td>Hightail</td>\n",
       "      <td>200</td>\n",
       "      <td>-121.935688</td>\n",
       "      <td>37.288974</td>\n",
       "      <td>315520</td>\n",
       "    </tr>\n",
       "    <tr>\n",
       "      <th>2950</th>\n",
       "      <td>[-121.933651, 37.291228]</td>\n",
       "      <td>Asyncast Corporation</td>\n",
       "      <td>20</td>\n",
       "      <td>-121.933651</td>\n",
       "      <td>37.291228</td>\n",
       "      <td>315490</td>\n",
       "    </tr>\n",
       "    <tr>\n",
       "      <th>4187</th>\n",
       "      <td>[-121.93418, 37.291065]</td>\n",
       "      <td>tempCFO Solutions</td>\n",
       "      <td>22</td>\n",
       "      <td>-121.934180</td>\n",
       "      <td>37.291065</td>\n",
       "      <td>315490</td>\n",
       "    </tr>\n",
       "    <tr>\n",
       "      <th>135</th>\n",
       "      <td>[-121.927696, 37.294465]</td>\n",
       "      <td>PayPal</td>\n",
       "      <td>300000</td>\n",
       "      <td>-121.927696</td>\n",
       "      <td>37.294465</td>\n",
       "      <td>315470</td>\n",
       "    </tr>\n",
       "    <tr>\n",
       "      <th>466</th>\n",
       "      <td>[-121.9317853, 37.2906027]</td>\n",
       "      <td>clipsync</td>\n",
       "      <td>28</td>\n",
       "      <td>-121.931785</td>\n",
       "      <td>37.290603</td>\n",
       "      <td>315470</td>\n",
       "    </tr>\n",
       "    <tr>\n",
       "      <th>11</th>\n",
       "      <td>[-121.930035, 37.295005]</td>\n",
       "      <td>eBay</td>\n",
       "      <td>15000</td>\n",
       "      <td>-121.930035</td>\n",
       "      <td>37.295005</td>\n",
       "      <td>315470</td>\n",
       "    </tr>\n",
       "    <tr>\n",
       "      <th>3767</th>\n",
       "      <td>[-121.9303616, 37.3015115]</td>\n",
       "      <td>Naseeb Networks</td>\n",
       "      <td>100</td>\n",
       "      <td>-121.930362</td>\n",
       "      <td>37.301511</td>\n",
       "      <td>315200</td>\n",
       "    </tr>\n",
       "    <tr>\n",
       "      <th>116</th>\n",
       "      <td>[-95.712891, 37.09024]</td>\n",
       "      <td>CollegeWikis</td>\n",
       "      <td>7</td>\n",
       "      <td>-95.712891</td>\n",
       "      <td>37.090240</td>\n",
       "      <td>190054</td>\n",
       "    </tr>\n",
       "  </tbody>\n",
       "</table>\n",
       "</div>"
      ],
      "text/plain": [
       "            location.coordinates                  name  number_of_employees  \\\n",
       "777      [-73.723999, 41.109534]                   IBM               388000   \n",
       "2608    [-121.934573, 37.293687]                Telera                  100   \n",
       "133     [-121.935688, 37.288974]              Hightail                  200   \n",
       "2950    [-121.933651, 37.291228]  Asyncast Corporation                   20   \n",
       "4187     [-121.93418, 37.291065]     tempCFO Solutions                   22   \n",
       "135     [-121.927696, 37.294465]                PayPal               300000   \n",
       "466   [-121.9317853, 37.2906027]              clipsync                   28   \n",
       "11      [-121.930035, 37.295005]                  eBay                15000   \n",
       "3767  [-121.9303616, 37.3015115]       Naseeb Networks                  100   \n",
       "116       [-95.712891, 37.09024]          CollegeWikis                    7   \n",
       "\n",
       "            long        lat  Near_Emp  \n",
       "777   -73.723999  41.109534    388000  \n",
       "2608 -121.934573  37.293687    315570  \n",
       "133  -121.935688  37.288974    315520  \n",
       "2950 -121.933651  37.291228    315490  \n",
       "4187 -121.934180  37.291065    315490  \n",
       "135  -121.927696  37.294465    315470  \n",
       "466  -121.931785  37.290603    315470  \n",
       "11   -121.930035  37.295005    315470  \n",
       "3767 -121.930362  37.301511    315200  \n",
       "116   -95.712891  37.090240    190054  "
      ]
     },
     "execution_count": 27,
     "metadata": {},
     "output_type": "execute_result"
    }
   ],
   "source": [
    "radio_1000 "
   ]
  },
  {
   "cell_type": "code",
   "execution_count": null,
   "metadata": {},
   "outputs": [],
   "source": []
  }
 ],
 "metadata": {
  "kernelspec": {
   "display_name": "Python 3",
   "language": "python",
   "name": "python3"
  },
  "language_info": {
   "codemirror_mode": {
    "name": "ipython",
    "version": 3
   },
   "file_extension": ".py",
   "mimetype": "text/x-python",
   "name": "python",
   "nbconvert_exporter": "python",
   "pygments_lexer": "ipython3",
   "version": "3.7.0"
  }
 },
 "nbformat": 4,
 "nbformat_minor": 2
}
